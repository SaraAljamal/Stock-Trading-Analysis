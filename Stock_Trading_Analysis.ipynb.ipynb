{
  "nbformat": 4,
  "nbformat_minor": 0,
  "metadata": {
    "colab": {
      "provenance": [],
      "collapsed_sections": [
        "2AfkU--qGg0V",
        "OvLbSRh0KV7m",
        "3prDdiTLdzbz",
        "lQkvruI6YRRF",
        "nVm9ygi5eVDo",
        "ZccTm9O5mXAH",
        "WE7w3jtuedoC",
        "Lw1ymaa4llO3",
        "txUwmFyx59Wl",
        "YqnOPsW6CRR3",
        "_qAqGABlKUJO",
        "5EwXUONvJ9pl",
        "hSvW-TlLGkdh",
        "kNxrgLYGOImZ",
        "IW5hDwMrsccv",
        "niF-mlrItNau"
      ]
    },
    "kernelspec": {
      "name": "python3",
      "display_name": "Python 3"
    },
    "language_info": {
      "name": "python"
    }
  },
  "cells": [
    {
      "cell_type": "markdown",
      "source": [
        "# Loading and exploring data"
      ],
      "metadata": {
        "id": "2AfkU--qGg0V"
      }
    },
    {
      "cell_type": "code",
      "source": [
        "import pandas as pd\n",
        "import numpy as np\n",
        "import seaborn as sns\n",
        "import matplotlib.pyplot as plt"
      ],
      "metadata": {
        "id": "uNwZ3R8PLx5_"
      },
      "execution_count": 1,
      "outputs": []
    },
    {
      "cell_type": "code",
      "source": [
        "df1=pd.read_csv('/content/drive/MyDrive/HTU- second year- second semester/Data Analytics/high.csv')\n",
        "df2=pd.read_csv('/content/drive/MyDrive/HTU- second year- second semester/Data Analytics/low.csv')"
      ],
      "metadata": {
        "id": "W1tSVFocGnhV"
      },
      "execution_count": 2,
      "outputs": []
    },
    {
      "cell_type": "code",
      "source": [
        "df=df1.copy()\n",
        "low=df2['LOW']\n",
        "df['LOW']=low\n",
        "df.columns"
      ],
      "metadata": {
        "id": "5hu1qIWpuAXS",
        "colab": {
          "base_uri": "https://localhost:8080/"
        },
        "outputId": "653cba57-fce9-4dd8-9218-f296a1edee43"
      },
      "execution_count": 3,
      "outputs": [
        {
          "output_type": "execute_result",
          "data": {
            "text/plain": [
              "Index(['TRADE_DATE', 'SEC_CODE', 'SYMBOL1', 'MARKET', 'VOLUME', 'TRADE_QTY',\n",
              "       'NO_OF_TRADES', 'HIGH', 'BEST_ASK_PRICE', 'BEST_ASK_QTY',\n",
              "       'BEST_BID_PRICE', 'BEST_BID_QTY', 'LOW'],\n",
              "      dtype='object')"
            ]
          },
          "metadata": {},
          "execution_count": 3
        }
      ]
    },
    {
      "cell_type": "code",
      "source": [
        "df.head()"
      ],
      "metadata": {
        "id": "7MYJmgsZHNaO",
        "colab": {
          "base_uri": "https://localhost:8080/",
          "height": 206
        },
        "outputId": "65eb2b3e-c23f-4d32-b94e-2313110d646a"
      },
      "execution_count": 4,
      "outputs": [
        {
          "output_type": "execute_result",
          "data": {
            "text/plain": [
              "   TRADE_DATE  SEC_CODE SYMBOL1  MARKET     VOLUME  TRADE_QTY  NO_OF_TRADES  \\\n",
              "0  01/02/2022    111001    JOIB       1  199083.73      54378            73   \n",
              "1  01/02/2022    111002    JOKB       1   12707.76       9009            17   \n",
              "2  01/02/2022    111003    JCBK       2     727.41        726             7   \n",
              "3  01/02/2022    111004    THBK       1    1558.10        394             5   \n",
              "4  01/02/2022    111006    SIBK       1   29030.98      14867            11   \n",
              "\n",
              "   HIGH  BEST_ASK_PRICE  BEST_ASK_QTY  BEST_BID_PRICE  BEST_BID_QTY   LOW  \n",
              "0  3.67            2.65         585.0            3.13        2000.0  3.65  \n",
              "1  1.42            1.36         493.0            1.86        1570.0  1.41  \n",
              "2  1.03            1.14        1853.0            1.64        1000.0  1.00  \n",
              "3  3.97            1.09         660.0            1.59          46.0  3.95  \n",
              "4  1.98            1.23        1000.0            1.73         333.0  1.95  "
            ],
            "text/html": [
              "\n",
              "  <div id=\"df-18f16915-f8fe-4d9f-9fc5-e91ee24ae4e7\">\n",
              "    <div class=\"colab-df-container\">\n",
              "      <div>\n",
              "<style scoped>\n",
              "    .dataframe tbody tr th:only-of-type {\n",
              "        vertical-align: middle;\n",
              "    }\n",
              "\n",
              "    .dataframe tbody tr th {\n",
              "        vertical-align: top;\n",
              "    }\n",
              "\n",
              "    .dataframe thead th {\n",
              "        text-align: right;\n",
              "    }\n",
              "</style>\n",
              "<table border=\"1\" class=\"dataframe\">\n",
              "  <thead>\n",
              "    <tr style=\"text-align: right;\">\n",
              "      <th></th>\n",
              "      <th>TRADE_DATE</th>\n",
              "      <th>SEC_CODE</th>\n",
              "      <th>SYMBOL1</th>\n",
              "      <th>MARKET</th>\n",
              "      <th>VOLUME</th>\n",
              "      <th>TRADE_QTY</th>\n",
              "      <th>NO_OF_TRADES</th>\n",
              "      <th>HIGH</th>\n",
              "      <th>BEST_ASK_PRICE</th>\n",
              "      <th>BEST_ASK_QTY</th>\n",
              "      <th>BEST_BID_PRICE</th>\n",
              "      <th>BEST_BID_QTY</th>\n",
              "      <th>LOW</th>\n",
              "    </tr>\n",
              "  </thead>\n",
              "  <tbody>\n",
              "    <tr>\n",
              "      <th>0</th>\n",
              "      <td>01/02/2022</td>\n",
              "      <td>111001</td>\n",
              "      <td>JOIB</td>\n",
              "      <td>1</td>\n",
              "      <td>199083.73</td>\n",
              "      <td>54378</td>\n",
              "      <td>73</td>\n",
              "      <td>3.67</td>\n",
              "      <td>2.65</td>\n",
              "      <td>585.0</td>\n",
              "      <td>3.13</td>\n",
              "      <td>2000.0</td>\n",
              "      <td>3.65</td>\n",
              "    </tr>\n",
              "    <tr>\n",
              "      <th>1</th>\n",
              "      <td>01/02/2022</td>\n",
              "      <td>111002</td>\n",
              "      <td>JOKB</td>\n",
              "      <td>1</td>\n",
              "      <td>12707.76</td>\n",
              "      <td>9009</td>\n",
              "      <td>17</td>\n",
              "      <td>1.42</td>\n",
              "      <td>1.36</td>\n",
              "      <td>493.0</td>\n",
              "      <td>1.86</td>\n",
              "      <td>1570.0</td>\n",
              "      <td>1.41</td>\n",
              "    </tr>\n",
              "    <tr>\n",
              "      <th>2</th>\n",
              "      <td>01/02/2022</td>\n",
              "      <td>111003</td>\n",
              "      <td>JCBK</td>\n",
              "      <td>2</td>\n",
              "      <td>727.41</td>\n",
              "      <td>726</td>\n",
              "      <td>7</td>\n",
              "      <td>1.03</td>\n",
              "      <td>1.14</td>\n",
              "      <td>1853.0</td>\n",
              "      <td>1.64</td>\n",
              "      <td>1000.0</td>\n",
              "      <td>1.00</td>\n",
              "    </tr>\n",
              "    <tr>\n",
              "      <th>3</th>\n",
              "      <td>01/02/2022</td>\n",
              "      <td>111004</td>\n",
              "      <td>THBK</td>\n",
              "      <td>1</td>\n",
              "      <td>1558.10</td>\n",
              "      <td>394</td>\n",
              "      <td>5</td>\n",
              "      <td>3.97</td>\n",
              "      <td>1.09</td>\n",
              "      <td>660.0</td>\n",
              "      <td>1.59</td>\n",
              "      <td>46.0</td>\n",
              "      <td>3.95</td>\n",
              "    </tr>\n",
              "    <tr>\n",
              "      <th>4</th>\n",
              "      <td>01/02/2022</td>\n",
              "      <td>111006</td>\n",
              "      <td>SIBK</td>\n",
              "      <td>1</td>\n",
              "      <td>29030.98</td>\n",
              "      <td>14867</td>\n",
              "      <td>11</td>\n",
              "      <td>1.98</td>\n",
              "      <td>1.23</td>\n",
              "      <td>1000.0</td>\n",
              "      <td>1.73</td>\n",
              "      <td>333.0</td>\n",
              "      <td>1.95</td>\n",
              "    </tr>\n",
              "  </tbody>\n",
              "</table>\n",
              "</div>\n",
              "      <button class=\"colab-df-convert\" onclick=\"convertToInteractive('df-18f16915-f8fe-4d9f-9fc5-e91ee24ae4e7')\"\n",
              "              title=\"Convert this dataframe to an interactive table.\"\n",
              "              style=\"display:none;\">\n",
              "        \n",
              "  <svg xmlns=\"http://www.w3.org/2000/svg\" height=\"24px\"viewBox=\"0 0 24 24\"\n",
              "       width=\"24px\">\n",
              "    <path d=\"M0 0h24v24H0V0z\" fill=\"none\"/>\n",
              "    <path d=\"M18.56 5.44l.94 2.06.94-2.06 2.06-.94-2.06-.94-.94-2.06-.94 2.06-2.06.94zm-11 1L8.5 8.5l.94-2.06 2.06-.94-2.06-.94L8.5 2.5l-.94 2.06-2.06.94zm10 10l.94 2.06.94-2.06 2.06-.94-2.06-.94-.94-2.06-.94 2.06-2.06.94z\"/><path d=\"M17.41 7.96l-1.37-1.37c-.4-.4-.92-.59-1.43-.59-.52 0-1.04.2-1.43.59L10.3 9.45l-7.72 7.72c-.78.78-.78 2.05 0 2.83L4 21.41c.39.39.9.59 1.41.59.51 0 1.02-.2 1.41-.59l7.78-7.78 2.81-2.81c.8-.78.8-2.07 0-2.86zM5.41 20L4 18.59l7.72-7.72 1.47 1.35L5.41 20z\"/>\n",
              "  </svg>\n",
              "      </button>\n",
              "      \n",
              "  <style>\n",
              "    .colab-df-container {\n",
              "      display:flex;\n",
              "      flex-wrap:wrap;\n",
              "      gap: 12px;\n",
              "    }\n",
              "\n",
              "    .colab-df-convert {\n",
              "      background-color: #E8F0FE;\n",
              "      border: none;\n",
              "      border-radius: 50%;\n",
              "      cursor: pointer;\n",
              "      display: none;\n",
              "      fill: #1967D2;\n",
              "      height: 32px;\n",
              "      padding: 0 0 0 0;\n",
              "      width: 32px;\n",
              "    }\n",
              "\n",
              "    .colab-df-convert:hover {\n",
              "      background-color: #E2EBFA;\n",
              "      box-shadow: 0px 1px 2px rgba(60, 64, 67, 0.3), 0px 1px 3px 1px rgba(60, 64, 67, 0.15);\n",
              "      fill: #174EA6;\n",
              "    }\n",
              "\n",
              "    [theme=dark] .colab-df-convert {\n",
              "      background-color: #3B4455;\n",
              "      fill: #D2E3FC;\n",
              "    }\n",
              "\n",
              "    [theme=dark] .colab-df-convert:hover {\n",
              "      background-color: #434B5C;\n",
              "      box-shadow: 0px 1px 3px 1px rgba(0, 0, 0, 0.15);\n",
              "      filter: drop-shadow(0px 1px 2px rgba(0, 0, 0, 0.3));\n",
              "      fill: #FFFFFF;\n",
              "    }\n",
              "  </style>\n",
              "\n",
              "      <script>\n",
              "        const buttonEl =\n",
              "          document.querySelector('#df-18f16915-f8fe-4d9f-9fc5-e91ee24ae4e7 button.colab-df-convert');\n",
              "        buttonEl.style.display =\n",
              "          google.colab.kernel.accessAllowed ? 'block' : 'none';\n",
              "\n",
              "        async function convertToInteractive(key) {\n",
              "          const element = document.querySelector('#df-18f16915-f8fe-4d9f-9fc5-e91ee24ae4e7');\n",
              "          const dataTable =\n",
              "            await google.colab.kernel.invokeFunction('convertToInteractive',\n",
              "                                                     [key], {});\n",
              "          if (!dataTable) return;\n",
              "\n",
              "          const docLinkHtml = 'Like what you see? Visit the ' +\n",
              "            '<a target=\"_blank\" href=https://colab.research.google.com/notebooks/data_table.ipynb>data table notebook</a>'\n",
              "            + ' to learn more about interactive tables.';\n",
              "          element.innerHTML = '';\n",
              "          dataTable['output_type'] = 'display_data';\n",
              "          await google.colab.output.renderOutput(dataTable, element);\n",
              "          const docLink = document.createElement('div');\n",
              "          docLink.innerHTML = docLinkHtml;\n",
              "          element.appendChild(docLink);\n",
              "        }\n",
              "      </script>\n",
              "    </div>\n",
              "  </div>\n",
              "  "
            ]
          },
          "metadata": {},
          "execution_count": 4
        }
      ]
    },
    {
      "cell_type": "code",
      "source": [
        "df.info()"
      ],
      "metadata": {
        "id": "44Z4LiLqI-Yv",
        "colab": {
          "base_uri": "https://localhost:8080/"
        },
        "outputId": "c5513a0f-1668-4be9-ee85-f9432d19520d"
      },
      "execution_count": 5,
      "outputs": [
        {
          "output_type": "stream",
          "name": "stdout",
          "text": [
            "<class 'pandas.core.frame.DataFrame'>\n",
            "RangeIndex: 28012 entries, 0 to 28011\n",
            "Data columns (total 13 columns):\n",
            " #   Column          Non-Null Count  Dtype  \n",
            "---  ------          --------------  -----  \n",
            " 0   TRADE_DATE      28012 non-null  object \n",
            " 1   SEC_CODE        28012 non-null  int64  \n",
            " 2   SYMBOL1         28012 non-null  object \n",
            " 3   MARKET          28012 non-null  int64  \n",
            " 4   VOLUME          28012 non-null  float64\n",
            " 5   TRADE_QTY       28012 non-null  int64  \n",
            " 6   NO_OF_TRADES    28012 non-null  int64  \n",
            " 7   HIGH            28012 non-null  float64\n",
            " 8   BEST_ASK_PRICE  28012 non-null  float64\n",
            " 9   BEST_ASK_QTY    28012 non-null  float64\n",
            " 10  BEST_BID_PRICE  28012 non-null  float64\n",
            " 11  BEST_BID_QTY    28012 non-null  float64\n",
            " 12  LOW             28012 non-null  float64\n",
            "dtypes: float64(7), int64(4), object(2)\n",
            "memory usage: 2.8+ MB\n"
          ]
        }
      ]
    },
    {
      "cell_type": "code",
      "source": [
        "df.shape"
      ],
      "metadata": {
        "id": "jDtozWSGHQCI",
        "colab": {
          "base_uri": "https://localhost:8080/"
        },
        "outputId": "01577b4a-3be1-4b73-a9f5-8596fd1684d3"
      },
      "execution_count": 6,
      "outputs": [
        {
          "output_type": "execute_result",
          "data": {
            "text/plain": [
              "(28012, 13)"
            ]
          },
          "metadata": {},
          "execution_count": 6
        }
      ]
    },
    {
      "cell_type": "code",
      "source": [
        "df.dtypes"
      ],
      "metadata": {
        "id": "wfBQ_p28HTGs",
        "colab": {
          "base_uri": "https://localhost:8080/"
        },
        "outputId": "965e8af7-298a-44d6-9e8c-8f44de9dc93e"
      },
      "execution_count": 7,
      "outputs": [
        {
          "output_type": "execute_result",
          "data": {
            "text/plain": [
              "TRADE_DATE         object\n",
              "SEC_CODE            int64\n",
              "SYMBOL1            object\n",
              "MARKET              int64\n",
              "VOLUME            float64\n",
              "TRADE_QTY           int64\n",
              "NO_OF_TRADES        int64\n",
              "HIGH              float64\n",
              "BEST_ASK_PRICE    float64\n",
              "BEST_ASK_QTY      float64\n",
              "BEST_BID_PRICE    float64\n",
              "BEST_BID_QTY      float64\n",
              "LOW               float64\n",
              "dtype: object"
            ]
          },
          "metadata": {},
          "execution_count": 7
        }
      ]
    },
    {
      "cell_type": "markdown",
      "source": [
        "# Descriptive analytics"
      ],
      "metadata": {
        "id": "OvLbSRh0KV7m"
      }
    },
    {
      "cell_type": "code",
      "source": [
        "df.describe()"
      ],
      "metadata": {
        "id": "MJyWufJnJBtT",
        "colab": {
          "base_uri": "https://localhost:8080/",
          "height": 300
        },
        "outputId": "f963c387-fd93-43f1-de4e-11db3022fac2"
      },
      "execution_count": 8,
      "outputs": [
        {
          "output_type": "execute_result",
          "data": {
            "text/plain": [
              "            SEC_CODE        MARKET        VOLUME     TRADE_QTY  NO_OF_TRADES  \\\n",
              "count   28012.000000  28012.000000  2.801200e+04  2.801200e+04  28012.000000   \n",
              "mean   131287.967871      1.385906  6.312677e+04  4.270346e+04     28.061545   \n",
              "std      9043.995400      0.750480  3.022558e+05  1.451785e+05     66.231007   \n",
              "min    111001.000000      0.000000  2.000000e-02  1.000000e+00      1.000000   \n",
              "25%    131052.000000      1.000000  6.398300e+02  1.000000e+03      3.000000   \n",
              "50%    131243.000000      2.000000  3.831125e+03  5.873500e+03      9.000000   \n",
              "75%    141014.000000      2.000000  2.014495e+04  2.843675e+04     25.000000   \n",
              "max    142041.000000      2.000000  8.868824e+06  5.741963e+06   1700.000000   \n",
              "\n",
              "               HIGH  BEST_ASK_PRICE  BEST_ASK_QTY  BEST_BID_PRICE  \\\n",
              "count  28012.000000    28012.000000  2.801200e+04    28012.000000   \n",
              "mean       1.713816        1.620775  1.979999e+04        2.113421   \n",
              "std        4.667872        1.520599  6.742718e+04        1.500857   \n",
              "min        0.020000        1.000000  0.000000e+00        1.500000   \n",
              "25%        0.380000        1.050000  5.000000e+02        1.550000   \n",
              "50%        0.710000        1.180000  2.100000e+03        1.680000   \n",
              "75%        1.460000        1.550000  9.494250e+03        2.040000   \n",
              "max       44.500000       40.000000  1.017951e+06       40.000000   \n",
              "\n",
              "       BEST_BID_QTY           LOW  \n",
              "count  2.801200e+04  28012.000000  \n",
              "mean   2.452341e+04      1.680022  \n",
              "std    1.008184e+05      4.580905  \n",
              "min    0.000000e+00      0.010000  \n",
              "25%    4.000000e+02      0.370000  \n",
              "50%    1.912000e+03      0.690000  \n",
              "75%    1.038675e+04      1.432500  \n",
              "max    3.600734e+06     44.040000  "
            ],
            "text/html": [
              "\n",
              "  <div id=\"df-939ec31d-1c32-41d2-9b84-9b08aec6cbc3\">\n",
              "    <div class=\"colab-df-container\">\n",
              "      <div>\n",
              "<style scoped>\n",
              "    .dataframe tbody tr th:only-of-type {\n",
              "        vertical-align: middle;\n",
              "    }\n",
              "\n",
              "    .dataframe tbody tr th {\n",
              "        vertical-align: top;\n",
              "    }\n",
              "\n",
              "    .dataframe thead th {\n",
              "        text-align: right;\n",
              "    }\n",
              "</style>\n",
              "<table border=\"1\" class=\"dataframe\">\n",
              "  <thead>\n",
              "    <tr style=\"text-align: right;\">\n",
              "      <th></th>\n",
              "      <th>SEC_CODE</th>\n",
              "      <th>MARKET</th>\n",
              "      <th>VOLUME</th>\n",
              "      <th>TRADE_QTY</th>\n",
              "      <th>NO_OF_TRADES</th>\n",
              "      <th>HIGH</th>\n",
              "      <th>BEST_ASK_PRICE</th>\n",
              "      <th>BEST_ASK_QTY</th>\n",
              "      <th>BEST_BID_PRICE</th>\n",
              "      <th>BEST_BID_QTY</th>\n",
              "      <th>LOW</th>\n",
              "    </tr>\n",
              "  </thead>\n",
              "  <tbody>\n",
              "    <tr>\n",
              "      <th>count</th>\n",
              "      <td>28012.000000</td>\n",
              "      <td>28012.000000</td>\n",
              "      <td>2.801200e+04</td>\n",
              "      <td>2.801200e+04</td>\n",
              "      <td>28012.000000</td>\n",
              "      <td>28012.000000</td>\n",
              "      <td>28012.000000</td>\n",
              "      <td>2.801200e+04</td>\n",
              "      <td>28012.000000</td>\n",
              "      <td>2.801200e+04</td>\n",
              "      <td>28012.000000</td>\n",
              "    </tr>\n",
              "    <tr>\n",
              "      <th>mean</th>\n",
              "      <td>131287.967871</td>\n",
              "      <td>1.385906</td>\n",
              "      <td>6.312677e+04</td>\n",
              "      <td>4.270346e+04</td>\n",
              "      <td>28.061545</td>\n",
              "      <td>1.713816</td>\n",
              "      <td>1.620775</td>\n",
              "      <td>1.979999e+04</td>\n",
              "      <td>2.113421</td>\n",
              "      <td>2.452341e+04</td>\n",
              "      <td>1.680022</td>\n",
              "    </tr>\n",
              "    <tr>\n",
              "      <th>std</th>\n",
              "      <td>9043.995400</td>\n",
              "      <td>0.750480</td>\n",
              "      <td>3.022558e+05</td>\n",
              "      <td>1.451785e+05</td>\n",
              "      <td>66.231007</td>\n",
              "      <td>4.667872</td>\n",
              "      <td>1.520599</td>\n",
              "      <td>6.742718e+04</td>\n",
              "      <td>1.500857</td>\n",
              "      <td>1.008184e+05</td>\n",
              "      <td>4.580905</td>\n",
              "    </tr>\n",
              "    <tr>\n",
              "      <th>min</th>\n",
              "      <td>111001.000000</td>\n",
              "      <td>0.000000</td>\n",
              "      <td>2.000000e-02</td>\n",
              "      <td>1.000000e+00</td>\n",
              "      <td>1.000000</td>\n",
              "      <td>0.020000</td>\n",
              "      <td>1.000000</td>\n",
              "      <td>0.000000e+00</td>\n",
              "      <td>1.500000</td>\n",
              "      <td>0.000000e+00</td>\n",
              "      <td>0.010000</td>\n",
              "    </tr>\n",
              "    <tr>\n",
              "      <th>25%</th>\n",
              "      <td>131052.000000</td>\n",
              "      <td>1.000000</td>\n",
              "      <td>6.398300e+02</td>\n",
              "      <td>1.000000e+03</td>\n",
              "      <td>3.000000</td>\n",
              "      <td>0.380000</td>\n",
              "      <td>1.050000</td>\n",
              "      <td>5.000000e+02</td>\n",
              "      <td>1.550000</td>\n",
              "      <td>4.000000e+02</td>\n",
              "      <td>0.370000</td>\n",
              "    </tr>\n",
              "    <tr>\n",
              "      <th>50%</th>\n",
              "      <td>131243.000000</td>\n",
              "      <td>2.000000</td>\n",
              "      <td>3.831125e+03</td>\n",
              "      <td>5.873500e+03</td>\n",
              "      <td>9.000000</td>\n",
              "      <td>0.710000</td>\n",
              "      <td>1.180000</td>\n",
              "      <td>2.100000e+03</td>\n",
              "      <td>1.680000</td>\n",
              "      <td>1.912000e+03</td>\n",
              "      <td>0.690000</td>\n",
              "    </tr>\n",
              "    <tr>\n",
              "      <th>75%</th>\n",
              "      <td>141014.000000</td>\n",
              "      <td>2.000000</td>\n",
              "      <td>2.014495e+04</td>\n",
              "      <td>2.843675e+04</td>\n",
              "      <td>25.000000</td>\n",
              "      <td>1.460000</td>\n",
              "      <td>1.550000</td>\n",
              "      <td>9.494250e+03</td>\n",
              "      <td>2.040000</td>\n",
              "      <td>1.038675e+04</td>\n",
              "      <td>1.432500</td>\n",
              "    </tr>\n",
              "    <tr>\n",
              "      <th>max</th>\n",
              "      <td>142041.000000</td>\n",
              "      <td>2.000000</td>\n",
              "      <td>8.868824e+06</td>\n",
              "      <td>5.741963e+06</td>\n",
              "      <td>1700.000000</td>\n",
              "      <td>44.500000</td>\n",
              "      <td>40.000000</td>\n",
              "      <td>1.017951e+06</td>\n",
              "      <td>40.000000</td>\n",
              "      <td>3.600734e+06</td>\n",
              "      <td>44.040000</td>\n",
              "    </tr>\n",
              "  </tbody>\n",
              "</table>\n",
              "</div>\n",
              "      <button class=\"colab-df-convert\" onclick=\"convertToInteractive('df-939ec31d-1c32-41d2-9b84-9b08aec6cbc3')\"\n",
              "              title=\"Convert this dataframe to an interactive table.\"\n",
              "              style=\"display:none;\">\n",
              "        \n",
              "  <svg xmlns=\"http://www.w3.org/2000/svg\" height=\"24px\"viewBox=\"0 0 24 24\"\n",
              "       width=\"24px\">\n",
              "    <path d=\"M0 0h24v24H0V0z\" fill=\"none\"/>\n",
              "    <path d=\"M18.56 5.44l.94 2.06.94-2.06 2.06-.94-2.06-.94-.94-2.06-.94 2.06-2.06.94zm-11 1L8.5 8.5l.94-2.06 2.06-.94-2.06-.94L8.5 2.5l-.94 2.06-2.06.94zm10 10l.94 2.06.94-2.06 2.06-.94-2.06-.94-.94-2.06-.94 2.06-2.06.94z\"/><path d=\"M17.41 7.96l-1.37-1.37c-.4-.4-.92-.59-1.43-.59-.52 0-1.04.2-1.43.59L10.3 9.45l-7.72 7.72c-.78.78-.78 2.05 0 2.83L4 21.41c.39.39.9.59 1.41.59.51 0 1.02-.2 1.41-.59l7.78-7.78 2.81-2.81c.8-.78.8-2.07 0-2.86zM5.41 20L4 18.59l7.72-7.72 1.47 1.35L5.41 20z\"/>\n",
              "  </svg>\n",
              "      </button>\n",
              "      \n",
              "  <style>\n",
              "    .colab-df-container {\n",
              "      display:flex;\n",
              "      flex-wrap:wrap;\n",
              "      gap: 12px;\n",
              "    }\n",
              "\n",
              "    .colab-df-convert {\n",
              "      background-color: #E8F0FE;\n",
              "      border: none;\n",
              "      border-radius: 50%;\n",
              "      cursor: pointer;\n",
              "      display: none;\n",
              "      fill: #1967D2;\n",
              "      height: 32px;\n",
              "      padding: 0 0 0 0;\n",
              "      width: 32px;\n",
              "    }\n",
              "\n",
              "    .colab-df-convert:hover {\n",
              "      background-color: #E2EBFA;\n",
              "      box-shadow: 0px 1px 2px rgba(60, 64, 67, 0.3), 0px 1px 3px 1px rgba(60, 64, 67, 0.15);\n",
              "      fill: #174EA6;\n",
              "    }\n",
              "\n",
              "    [theme=dark] .colab-df-convert {\n",
              "      background-color: #3B4455;\n",
              "      fill: #D2E3FC;\n",
              "    }\n",
              "\n",
              "    [theme=dark] .colab-df-convert:hover {\n",
              "      background-color: #434B5C;\n",
              "      box-shadow: 0px 1px 3px 1px rgba(0, 0, 0, 0.15);\n",
              "      filter: drop-shadow(0px 1px 2px rgba(0, 0, 0, 0.3));\n",
              "      fill: #FFFFFF;\n",
              "    }\n",
              "  </style>\n",
              "\n",
              "      <script>\n",
              "        const buttonEl =\n",
              "          document.querySelector('#df-939ec31d-1c32-41d2-9b84-9b08aec6cbc3 button.colab-df-convert');\n",
              "        buttonEl.style.display =\n",
              "          google.colab.kernel.accessAllowed ? 'block' : 'none';\n",
              "\n",
              "        async function convertToInteractive(key) {\n",
              "          const element = document.querySelector('#df-939ec31d-1c32-41d2-9b84-9b08aec6cbc3');\n",
              "          const dataTable =\n",
              "            await google.colab.kernel.invokeFunction('convertToInteractive',\n",
              "                                                     [key], {});\n",
              "          if (!dataTable) return;\n",
              "\n",
              "          const docLinkHtml = 'Like what you see? Visit the ' +\n",
              "            '<a target=\"_blank\" href=https://colab.research.google.com/notebooks/data_table.ipynb>data table notebook</a>'\n",
              "            + ' to learn more about interactive tables.';\n",
              "          element.innerHTML = '';\n",
              "          dataTable['output_type'] = 'display_data';\n",
              "          await google.colab.output.renderOutput(dataTable, element);\n",
              "          const docLink = document.createElement('div');\n",
              "          docLink.innerHTML = docLinkHtml;\n",
              "          element.appendChild(docLink);\n",
              "        }\n",
              "      </script>\n",
              "    </div>\n",
              "  </div>\n",
              "  "
            ]
          },
          "metadata": {},
          "execution_count": 8
        }
      ]
    },
    {
      "cell_type": "markdown",
      "source": [
        "## 1- Date feature"
      ],
      "metadata": {
        "id": "3prDdiTLdzbz"
      }
    },
    {
      "cell_type": "code",
      "source": [
        "df['TRADE_DATE'] = pd.to_datetime(df['TRADE_DATE'])\n",
        "df['Month'] = df['TRADE_DATE'].dt.month"
      ],
      "metadata": {
        "id": "t1BDVYVAcwyG",
        "colab": {
          "base_uri": "https://localhost:8080/"
        },
        "outputId": "b7f618eb-4bc9-451a-c46d-9a9aab8f35cd"
      },
      "execution_count": 10,
      "outputs": [
        {
          "output_type": "stream",
          "name": "stderr",
          "text": [
            "<ipython-input-10-eeb09652ae4b>:1: UserWarning: Parsing dates in DD/MM/YYYY format when dayfirst=False (the default) was specified. This may lead to inconsistently parsed dates! Specify a format to ensure consistent parsing.\n",
            "  df['TRADE_DATE'] = pd.to_datetime(df['TRADE_DATE'])\n"
          ]
        }
      ]
    },
    {
      "cell_type": "code",
      "source": [
        "df=df.drop(['TRADE_DATE'],axis=1)"
      ],
      "metadata": {
        "id": "xb4Ejz2fdQmu"
      },
      "execution_count": 11,
      "outputs": []
    },
    {
      "cell_type": "code",
      "source": [
        "df['Month'].value_counts()"
      ],
      "metadata": {
        "colab": {
          "base_uri": "https://localhost:8080/"
        },
        "id": "v5ZrpcF4o_zi",
        "outputId": "3fd56ac3-95ad-4f60-dd3e-5a63f397ad6b"
      },
      "execution_count": 12,
      "outputs": [
        {
          "output_type": "execute_result",
          "data": {
            "text/plain": [
              "6     2752\n",
              "7     2590\n",
              "8     2514\n",
              "3     2484\n",
              "9     2389\n",
              "10    2310\n",
              "11    2258\n",
              "2     2222\n",
              "5     2189\n",
              "1     2165\n",
              "12    2100\n",
              "4     2039\n",
              "Name: Month, dtype: int64"
            ]
          },
          "metadata": {},
          "execution_count": 12
        }
      ]
    },
    {
      "cell_type": "code",
      "source": [
        "sns.countplot(x=\"Month\", data=df)\n",
        "plt.show()"
      ],
      "metadata": {
        "id": "Lh0fCBhGbuK-",
        "colab": {
          "base_uri": "https://localhost:8080/",
          "height": 449
        },
        "outputId": "d6f6327b-053a-4512-950b-29f2f9c0978b"
      },
      "execution_count": 13,
      "outputs": [
        {
          "output_type": "display_data",
          "data": {
            "text/plain": [
              "<Figure size 640x480 with 1 Axes>"
            ],
            "image/png": "[encoded data removed]"
          },
          "metadata": {}
        }
      ]
    },
    {
      "cell_type": "markdown",
      "source": [
        "## 2- Market feature"
      ],
      "metadata": {
        "id": "lQkvruI6YRRF"
      }
    },
    {
      "cell_type": "code",
      "source": [
        "sns.countplot(x=\"MARKET\", data=df)\n",
        "plt.show()"
      ],
      "metadata": {
        "id": "g9mE21r6ZnkV",
        "colab": {
          "base_uri": "https://localhost:8080/",
          "height": 451
        },
        "outputId": "51cd6f92-a690-48bd-bc2e-10e39d539670"
      },
      "execution_count": 14,
      "outputs": [
        {
          "output_type": "display_data",
          "data": {
            "text/plain": [
              "<Figure size 640x480 with 1 Axes>"
            ],
            "image/png": "[encoded data removed]"
          },
          "metadata": {}
        }
      ]
    },
    {
      "cell_type": "code",
      "source": [
        "sns.barplot(x='MARKET',y='VOLUME',data=df)"
      ],
      "metadata": {
        "colab": {
          "base_uri": "https://localhost:8080/",
          "height": 466
        },
        "id": "o_9XqSmti1I1",
        "outputId": "f93cc94d-1cc7-4f5e-fa21-1014f24cf01b"
      },
      "execution_count": 15,
      "outputs": [
        {
          "output_type": "execute_result",
          "data": {
            "text/plain": [
              "<Axes: xlabel='MARKET', ylabel='VOLUME'>"
            ]
          },
          "metadata": {},
          "execution_count": 15
        },
        {
          "output_type": "display_data",
          "data": {
            "text/plain": [
              "<Figure size 640x480 with 1 Axes>"
            ],
            "image/png": "[encoded data removed]"
          },
          "metadata": {}
        }
      ]
    },
    {
      "cell_type": "code",
      "source": [
        "market_std = df.groupby('MARKET')['BEST_ASK_QTY'].std()\n",
        "market_std.plot(kind='bar')"
      ],
      "metadata": {
        "colab": {
          "base_uri": "https://localhost:8080/",
          "height": 461
        },
        "id": "BgOruukTi0wg",
        "outputId": "6cedda25-740d-4463-f7b1-843ceb7282f7"
      },
      "execution_count": 16,
      "outputs": [
        {
          "output_type": "execute_result",
          "data": {
            "text/plain": [
              "<Axes: xlabel='MARKET'>"
            ]
          },
          "metadata": {},
          "execution_count": 16
        },
        {
          "output_type": "display_data",
          "data": {
            "text/plain": [
              "<Figure size 640x480 with 1 Axes>"
            ],
            "image/png": "[encoded data removed]"
          },
          "metadata": {}
        }
      ]
    },
    {
      "cell_type": "markdown",
      "source": [
        "## 3- Symbol and Sec code features"
      ],
      "metadata": {
        "id": "nVm9ygi5eVDo"
      }
    },
    {
      "cell_type": "code",
      "source": [
        "secCode_df = df.groupby(['SYMBOL1','SEC_CODE'])['TRADE_QTY'].agg(['mean']).sort_values('mean',ascending =False)\n",
        "secCode_df"
      ],
      "metadata": {
        "colab": {
          "base_uri": "https://localhost:8080/",
          "height": 455
        },
        "id": "MJEjbXSQ4wvo",
        "outputId": "15d481bd-2be0-4f64-9c49-680c7888dd84"
      },
      "execution_count": 17,
      "outputs": [
        {
          "output_type": "execute_result",
          "data": {
            "text/plain": [
              "                           mean\n",
              "SYMBOL1 SEC_CODE               \n",
              "VFED    131011    547930.333333\n",
              "ATCO    141058    377854.344130\n",
              "JOEP    131004    261594.712551\n",
              "FINS    121034    224908.223350\n",
              "JOPT    142041    220634.748988\n",
              "...                         ...\n",
              "NATP    141084       200.000000\n",
              "FUND    141218       146.692308\n",
              "GENM    141005        69.666667\n",
              "BSTI    131242        68.500000\n",
              "ALFA    131083        20.000000\n",
              "\n",
              "[213 rows x 1 columns]"
            ],
            "text/html": [
              "\n",
              "  <div id=\"df-98b6df3b-b815-47ad-9e55-4ac7f9c663fb\">\n",
              "    <div class=\"colab-df-container\">\n",
              "      <div>\n",
              "<style scoped>\n",
              "    .dataframe tbody tr th:only-of-type {\n",
              "        vertical-align: middle;\n",
              "    }\n",
              "\n",
              "    .dataframe tbody tr th {\n",
              "        vertical-align: top;\n",
              "    }\n",
              "\n",
              "    .dataframe thead th {\n",
              "        text-align: right;\n",
              "    }\n",
              "</style>\n",
              "<table border=\"1\" class=\"dataframe\">\n",
              "  <thead>\n",
              "    <tr style=\"text-align: right;\">\n",
              "      <th></th>\n",
              "      <th></th>\n",
              "      <th>mean</th>\n",
              "    </tr>\n",
              "    <tr>\n",
              "      <th>SYMBOL1</th>\n",
              "      <th>SEC_CODE</th>\n",
              "      <th></th>\n",
              "    </tr>\n",
              "  </thead>\n",
              "  <tbody>\n",
              "    <tr>\n",
              "      <th>VFED</th>\n",
              "      <th>131011</th>\n",
              "      <td>547930.333333</td>\n",
              "    </tr>\n",
              "    <tr>\n",
              "      <th>ATCO</th>\n",
              "      <th>141058</th>\n",
              "      <td>377854.344130</td>\n",
              "    </tr>\n",
              "    <tr>\n",
              "      <th>JOEP</th>\n",
              "      <th>131004</th>\n",
              "      <td>261594.712551</td>\n",
              "    </tr>\n",
              "    <tr>\n",
              "      <th>FINS</th>\n",
              "      <th>121034</th>\n",
              "      <td>224908.223350</td>\n",
              "    </tr>\n",
              "    <tr>\n",
              "      <th>JOPT</th>\n",
              "      <th>142041</th>\n",
              "      <td>220634.748988</td>\n",
              "    </tr>\n",
              "    <tr>\n",
              "      <th>...</th>\n",
              "      <th>...</th>\n",
              "      <td>...</td>\n",
              "    </tr>\n",
              "    <tr>\n",
              "      <th>NATP</th>\n",
              "      <th>141084</th>\n",
              "      <td>200.000000</td>\n",
              "    </tr>\n",
              "    <tr>\n",
              "      <th>FUND</th>\n",
              "      <th>141218</th>\n",
              "      <td>146.692308</td>\n",
              "    </tr>\n",
              "    <tr>\n",
              "      <th>GENM</th>\n",
              "      <th>141005</th>\n",
              "      <td>69.666667</td>\n",
              "    </tr>\n",
              "    <tr>\n",
              "      <th>BSTI</th>\n",
              "      <th>131242</th>\n",
              "      <td>68.500000</td>\n",
              "    </tr>\n",
              "    <tr>\n",
              "      <th>ALFA</th>\n",
              "      <th>131083</th>\n",
              "      <td>20.000000</td>\n",
              "    </tr>\n",
              "  </tbody>\n",
              "</table>\n",
              "<p>213 rows × 1 columns</p>\n",
              "</div>\n",
              "      <button class=\"colab-df-convert\" onclick=\"convertToInteractive('df-98b6df3b-b815-47ad-9e55-4ac7f9c663fb')\"\n",
              "              title=\"Convert this dataframe to an interactive table.\"\n",
              "              style=\"display:none;\">\n",
              "        \n",
              "  <svg xmlns=\"http://www.w3.org/2000/svg\" height=\"24px\"viewBox=\"0 0 24 24\"\n",
              "       width=\"24px\">\n",
              "    <path d=\"M0 0h24v24H0V0z\" fill=\"none\"/>\n",
              "    <path d=\"M18.56 5.44l.94 2.06.94-2.06 2.06-.94-2.06-.94-.94-2.06-.94 2.06-2.06.94zm-11 1L8.5 8.5l.94-2.06 2.06-.94-2.06-.94L8.5 2.5l-.94 2.06-2.06.94zm10 10l.94 2.06.94-2.06 2.06-.94-2.06-.94-.94-2.06-.94 2.06-2.06.94z\"/><path d=\"M17.41 7.96l-1.37-1.37c-.4-.4-.92-.59-1.43-.59-.52 0-1.04.2-1.43.59L10.3 9.45l-7.72 7.72c-.78.78-.78 2.05 0 2.83L4 21.41c.39.39.9.59 1.41.59.51 0 1.02-.2 1.41-.59l7.78-7.78 2.81-2.81c.8-.78.8-2.07 0-2.86zM5.41 20L4 18.59l7.72-7.72 1.47 1.35L5.41 20z\"/>\n",
              "  </svg>\n",
              "      </button>\n",
              "      \n",
              "  <style>\n",
              "    .colab-df-container {\n",
              "      display:flex;\n",
              "      flex-wrap:wrap;\n",
              "      gap: 12px;\n",
              "    }\n",
              "\n",
              "    .colab-df-convert {\n",
              "      background-color: #E8F0FE;\n",
              "      border: none;\n",
              "      border-radius: 50%;\n",
              "      cursor: pointer;\n",
              "      display: none;\n",
              "      fill: #1967D2;\n",
              "      height: 32px;\n",
              "      padding: 0 0 0 0;\n",
              "      width: 32px;\n",
              "    }\n",
              "\n",
              "    .colab-df-convert:hover {\n",
              "      background-color: #E2EBFA;\n",
              "      box-shadow: 0px 1px 2px rgba(60, 64, 67, 0.3), 0px 1px 3px 1px rgba(60, 64, 67, 0.15);\n",
              "      fill: #174EA6;\n",
              "    }\n",
              "\n",
              "    [theme=dark] .colab-df-convert {\n",
              "      background-color: #3B4455;\n",
              "      fill: #D2E3FC;\n",
              "    }\n",
              "\n",
              "    [theme=dark] .colab-df-convert:hover {\n",
              "      background-color: #434B5C;\n",
              "      box-shadow: 0px 1px 3px 1px rgba(0, 0, 0, 0.15);\n",
              "      filter: drop-shadow(0px 1px 2px rgba(0, 0, 0, 0.3));\n",
              "      fill: #FFFFFF;\n",
              "    }\n",
              "  </style>\n",
              "\n",
              "      <script>\n",
              "        const buttonEl =\n",
              "          document.querySelector('#df-98b6df3b-b815-47ad-9e55-4ac7f9c663fb button.colab-df-convert');\n",
              "        buttonEl.style.display =\n",
              "          google.colab.kernel.accessAllowed ? 'block' : 'none';\n",
              "\n",
              "        async function convertToInteractive(key) {\n",
              "          const element = document.querySelector('#df-98b6df3b-b815-47ad-9e55-4ac7f9c663fb');\n",
              "          const dataTable =\n",
              "            await google.colab.kernel.invokeFunction('convertToInteractive',\n",
              "                                                     [key], {});\n",
              "          if (!dataTable) return;\n",
              "\n",
              "          const docLinkHtml = 'Like what you see? Visit the ' +\n",
              "            '<a target=\"_blank\" href=https://colab.research.google.com/notebooks/data_table.ipynb>data table notebook</a>'\n",
              "            + ' to learn more about interactive tables.';\n",
              "          element.innerHTML = '';\n",
              "          dataTable['output_type'] = 'display_data';\n",
              "          await google.colab.output.renderOutput(dataTable, element);\n",
              "          const docLink = document.createElement('div');\n",
              "          docLink.innerHTML = docLinkHtml;\n",
              "          element.appendChild(docLink);\n",
              "        }\n",
              "      </script>\n",
              "    </div>\n",
              "  </div>\n",
              "  "
            ]
          },
          "metadata": {},
          "execution_count": 17
        }
      ]
    },
    {
      "cell_type": "markdown",
      "source": [
        "## 4- Volume feature"
      ],
      "metadata": {
        "id": "ZccTm9O5mXAH"
      }
    },
    {
      "cell_type": "code",
      "source": [
        "sns.lineplot(x=\"Month\", y=\"VOLUME\",data=df)"
      ],
      "metadata": {
        "colab": {
          "base_uri": "https://localhost:8080/",
          "height": 466
        },
        "id": "PW_0-weqlDBH",
        "outputId": "d89c7af8-139c-4ea5-8d8c-fe535331308d"
      },
      "execution_count": 18,
      "outputs": [
        {
          "output_type": "execute_result",
          "data": {
            "text/plain": [
              "<Axes: xlabel='Month', ylabel='VOLUME'>"
            ]
          },
          "metadata": {},
          "execution_count": 18
        },
        {
          "output_type": "display_data",
          "data": {
            "text/plain": [
              "<Figure size 640x480 with 1 Axes>"
            ],
            "image/png": "[encoded data removed]"
          },
          "metadata": {}
        }
      ]
    },
    {
      "cell_type": "markdown",
      "source": [
        "## 5- High and low features"
      ],
      "metadata": {
        "id": "WE7w3jtuedoC"
      }
    },
    {
      "cell_type": "code",
      "source": [
        "sns.lineplot(x=\"Month\", y=\"HIGH\",data=df,label='High')\n",
        "sns.lineplot(x=\"Month\", y=\"LOW\",data=df,label='Low')\n",
        "plt.legend(loc='upper left')\n",
        "plt.ylabel('Price')"
      ],
      "metadata": {
        "colab": {
          "base_uri": "https://localhost:8080/",
          "height": 466
        },
        "id": "EfxRJ94uv5gb",
        "outputId": "c2e1f2a2-2e66-4db3-d2de-9a11c0dba597"
      },
      "execution_count": 19,
      "outputs": [
        {
          "output_type": "execute_result",
          "data": {
            "text/plain": [
              "Text(0, 0.5, 'Price')"
            ]
          },
          "metadata": {},
          "execution_count": 19
        },
        {
          "output_type": "display_data",
          "data": {
            "text/plain": [
              "<Figure size 640x480 with 1 Axes>"
            ],
            "image/png": "[encoded data removed]"
          },
          "metadata": {}
        }
      ]
    },
    {
      "cell_type": "markdown",
      "source": [
        "## 6- Best ask price and best bid price features"
      ],
      "metadata": {
        "id": "Lw1ymaa4llO3"
      }
    },
    {
      "cell_type": "code",
      "source": [
        "sns.lineplot(x=\"Month\", y=\"BEST_BID_PRICE\",data=df,label='BID PRICE')\n",
        "sns.lineplot(x=\"Month\", y=\"BEST_ASK_PRICE\",data=df,label='ASK PRICE')\n",
        "plt.legend()\n",
        "plt.ylabel('Price')"
      ],
      "metadata": {
        "colab": {
          "base_uri": "https://localhost:8080/",
          "height": 466
        },
        "id": "ac9H7yZgkbJp",
        "outputId": "b2267126-7895-4fd2-e814-ac12ca4bf71c"
      },
      "execution_count": 20,
      "outputs": [
        {
          "output_type": "execute_result",
          "data": {
            "text/plain": [
              "Text(0, 0.5, 'Price')"
            ]
          },
          "metadata": {},
          "execution_count": 20
        },
        {
          "output_type": "display_data",
          "data": {
            "text/plain": [
              "<Figure size 640x480 with 1 Axes>"
            ],
            "image/png": "[encoded data removed]"
          },
          "metadata": {}
        }
      ]
    },
    {
      "cell_type": "markdown",
      "source": [
        "## Using a contingency table find an association between at least two features"
      ],
      "metadata": {
        "id": "txUwmFyx59Wl"
      }
    },
    {
      "cell_type": "code",
      "source": [
        "contingency_table = pd.crosstab(df['MARKET'], df['Month'],margins=True)\n",
        "contingency_table"
      ],
      "metadata": {
        "id": "G8rJNdbA8yyq",
        "colab": {
          "base_uri": "https://localhost:8080/",
          "height": 206
        },
        "outputId": "7d180d09-83d9-4444-f83a-57843b42d4b5"
      },
      "execution_count": 21,
      "outputs": [
        {
          "output_type": "execute_result",
          "data": {
            "text/plain": [
              "Month      1     2     3     4     5     6     7     8     9    10    11  \\\n",
              "MARKET                                                                     \n",
              "0        330   354   423   317   395   469   399   394   393   390   369   \n",
              "1        588   598   672   605   657   777   755   763   693   671   671   \n",
              "2       1247  1270  1389  1117  1137  1506  1436  1357  1303  1249  1218   \n",
              "All     2165  2222  2484  2039  2189  2752  2590  2514  2389  2310  2258   \n",
              "\n",
              "Month     12    All  \n",
              "MARKET               \n",
              "0        336   4569  \n",
              "1        614   8064  \n",
              "2       1150  15379  \n",
              "All     2100  28012  "
            ],
            "text/html": [
              "\n",
              "  <div id=\"df-af60c26f-3ff4-4dd5-89ce-199e0d17b882\">\n",
              "    <div class=\"colab-df-container\">\n",
              "      <div>\n",
              "<style scoped>\n",
              "    .dataframe tbody tr th:only-of-type {\n",
              "        vertical-align: middle;\n",
              "    }\n",
              "\n",
              "    .dataframe tbody tr th {\n",
              "        vertical-align: top;\n",
              "    }\n",
              "\n",
              "    .dataframe thead th {\n",
              "        text-align: right;\n",
              "    }\n",
              "</style>\n",
              "<table border=\"1\" class=\"dataframe\">\n",
              "  <thead>\n",
              "    <tr style=\"text-align: right;\">\n",
              "      <th>Month</th>\n",
              "      <th>1</th>\n",
              "      <th>2</th>\n",
              "      <th>3</th>\n",
              "      <th>4</th>\n",
              "      <th>5</th>\n",
              "      <th>6</th>\n",
              "      <th>7</th>\n",
              "      <th>8</th>\n",
              "      <th>9</th>\n",
              "      <th>10</th>\n",
              "      <th>11</th>\n",
              "      <th>12</th>\n",
              "      <th>All</th>\n",
              "    </tr>\n",
              "    <tr>\n",
              "      <th>MARKET</th>\n",
              "      <th></th>\n",
              "      <th></th>\n",
              "      <th></th>\n",
              "      <th></th>\n",
              "      <th></th>\n",
              "      <th></th>\n",
              "      <th></th>\n",
              "      <th></th>\n",
              "      <th></th>\n",
              "      <th></th>\n",
              "      <th></th>\n",
              "      <th></th>\n",
              "      <th></th>\n",
              "    </tr>\n",
              "  </thead>\n",
              "  <tbody>\n",
              "    <tr>\n",
              "      <th>0</th>\n",
              "      <td>330</td>\n",
              "      <td>354</td>\n",
              "      <td>423</td>\n",
              "      <td>317</td>\n",
              "      <td>395</td>\n",
              "      <td>469</td>\n",
              "      <td>399</td>\n",
              "      <td>394</td>\n",
              "      <td>393</td>\n",
              "      <td>390</td>\n",
              "      <td>369</td>\n",
              "      <td>336</td>\n",
              "      <td>4569</td>\n",
              "    </tr>\n",
              "    <tr>\n",
              "      <th>1</th>\n",
              "      <td>588</td>\n",
              "      <td>598</td>\n",
              "      <td>672</td>\n",
              "      <td>605</td>\n",
              "      <td>657</td>\n",
              "      <td>777</td>\n",
              "      <td>755</td>\n",
              "      <td>763</td>\n",
              "      <td>693</td>\n",
              "      <td>671</td>\n",
              "      <td>671</td>\n",
              "      <td>614</td>\n",
              "      <td>8064</td>\n",
              "    </tr>\n",
              "    <tr>\n",
              "      <th>2</th>\n",
              "      <td>1247</td>\n",
              "      <td>1270</td>\n",
              "      <td>1389</td>\n",
              "      <td>1117</td>\n",
              "      <td>1137</td>\n",
              "      <td>1506</td>\n",
              "      <td>1436</td>\n",
              "      <td>1357</td>\n",
              "      <td>1303</td>\n",
              "      <td>1249</td>\n",
              "      <td>1218</td>\n",
              "      <td>1150</td>\n",
              "      <td>15379</td>\n",
              "    </tr>\n",
              "    <tr>\n",
              "      <th>All</th>\n",
              "      <td>2165</td>\n",
              "      <td>2222</td>\n",
              "      <td>2484</td>\n",
              "      <td>2039</td>\n",
              "      <td>2189</td>\n",
              "      <td>2752</td>\n",
              "      <td>2590</td>\n",
              "      <td>2514</td>\n",
              "      <td>2389</td>\n",
              "      <td>2310</td>\n",
              "      <td>2258</td>\n",
              "      <td>2100</td>\n",
              "      <td>28012</td>\n",
              "    </tr>\n",
              "  </tbody>\n",
              "</table>\n",
              "</div>\n",
              "      <button class=\"colab-df-convert\" onclick=\"convertToInteractive('df-af60c26f-3ff4-4dd5-89ce-199e0d17b882')\"\n",
              "              title=\"Convert this dataframe to an interactive table.\"\n",
              "              style=\"display:none;\">\n",
              "        \n",
              "  <svg xmlns=\"http://www.w3.org/2000/svg\" height=\"24px\"viewBox=\"0 0 24 24\"\n",
              "       width=\"24px\">\n",
              "    <path d=\"M0 0h24v24H0V0z\" fill=\"none\"/>\n",
              "    <path d=\"M18.56 5.44l.94 2.06.94-2.06 2.06-.94-2.06-.94-.94-2.06-.94 2.06-2.06.94zm-11 1L8.5 8.5l.94-2.06 2.06-.94-2.06-.94L8.5 2.5l-.94 2.06-2.06.94zm10 10l.94 2.06.94-2.06 2.06-.94-2.06-.94-.94-2.06-.94 2.06-2.06.94z\"/><path d=\"M17.41 7.96l-1.37-1.37c-.4-.4-.92-.59-1.43-.59-.52 0-1.04.2-1.43.59L10.3 9.45l-7.72 7.72c-.78.78-.78 2.05 0 2.83L4 21.41c.39.39.9.59 1.41.59.51 0 1.02-.2 1.41-.59l7.78-7.78 2.81-2.81c.8-.78.8-2.07 0-2.86zM5.41 20L4 18.59l7.72-7.72 1.47 1.35L5.41 20z\"/>\n",
              "  </svg>\n",
              "      </button>\n",
              "      \n",
              "  <style>\n",
              "    .colab-df-container {\n",
              "      display:flex;\n",
              "      flex-wrap:wrap;\n",
              "      gap: 12px;\n",
              "    }\n",
              "\n",
              "    .colab-df-convert {\n",
              "      background-color: #E8F0FE;\n",
              "      border: none;\n",
              "      border-radius: 50%;\n",
              "      cursor: pointer;\n",
              "      display: none;\n",
              "      fill: #1967D2;\n",
              "      height: 32px;\n",
              "      padding: 0 0 0 0;\n",
              "      width: 32px;\n",
              "    }\n",
              "\n",
              "    .colab-df-convert:hover {\n",
              "      background-color: #E2EBFA;\n",
              "      box-shadow: 0px 1px 2px rgba(60, 64, 67, 0.3), 0px 1px 3px 1px rgba(60, 64, 67, 0.15);\n",
              "      fill: #174EA6;\n",
              "    }\n",
              "\n",
              "    [theme=dark] .colab-df-convert {\n",
              "      background-color: #3B4455;\n",
              "      fill: #D2E3FC;\n",
              "    }\n",
              "\n",
              "    [theme=dark] .colab-df-convert:hover {\n",
              "      background-color: #434B5C;\n",
              "      box-shadow: 0px 1px 3px 1px rgba(0, 0, 0, 0.15);\n",
              "      filter: drop-shadow(0px 1px 2px rgba(0, 0, 0, 0.3));\n",
              "      fill: #FFFFFF;\n",
              "    }\n",
              "  </style>\n",
              "\n",
              "      <script>\n",
              "        const buttonEl =\n",
              "          document.querySelector('#df-af60c26f-3ff4-4dd5-89ce-199e0d17b882 button.colab-df-convert');\n",
              "        buttonEl.style.display =\n",
              "          google.colab.kernel.accessAllowed ? 'block' : 'none';\n",
              "\n",
              "        async function convertToInteractive(key) {\n",
              "          const element = document.querySelector('#df-af60c26f-3ff4-4dd5-89ce-199e0d17b882');\n",
              "          const dataTable =\n",
              "            await google.colab.kernel.invokeFunction('convertToInteractive',\n",
              "                                                     [key], {});\n",
              "          if (!dataTable) return;\n",
              "\n",
              "          const docLinkHtml = 'Like what you see? Visit the ' +\n",
              "            '<a target=\"_blank\" href=https://colab.research.google.com/notebooks/data_table.ipynb>data table notebook</a>'\n",
              "            + ' to learn more about interactive tables.';\n",
              "          element.innerHTML = '';\n",
              "          dataTable['output_type'] = 'display_data';\n",
              "          await google.colab.output.renderOutput(dataTable, element);\n",
              "          const docLink = document.createElement('div');\n",
              "          docLink.innerHTML = docLinkHtml;\n",
              "          element.appendChild(docLink);\n",
              "        }\n",
              "      </script>\n",
              "    </div>\n",
              "  </div>\n",
              "  "
            ]
          },
          "metadata": {},
          "execution_count": 21
        }
      ]
    },
    {
      "cell_type": "markdown",
      "source": [
        "# Predictive analytics"
      ],
      "metadata": {
        "id": "YqnOPsW6CRR3"
      }
    },
    {
      "cell_type": "markdown",
      "source": [
        "## Encoding"
      ],
      "metadata": {
        "id": "5EwXUONvJ9pl"
      }
    },
    {
      "cell_type": "code",
      "source": [
        "df.dtypes"
      ],
      "metadata": {
        "colab": {
          "base_uri": "https://localhost:8080/"
        },
        "id": "jRrcTA5XIQX-",
        "outputId": "a36192cd-fa73-471a-c1bb-afbfd2a5429e"
      },
      "execution_count": 22,
      "outputs": [
        {
          "output_type": "execute_result",
          "data": {
            "text/plain": [
              "SEC_CODE            int64\n",
              "SYMBOL1            object\n",
              "MARKET              int64\n",
              "VOLUME            float64\n",
              "TRADE_QTY           int64\n",
              "NO_OF_TRADES        int64\n",
              "HIGH              float64\n",
              "BEST_ASK_PRICE    float64\n",
              "BEST_ASK_QTY      float64\n",
              "BEST_BID_PRICE    float64\n",
              "BEST_BID_QTY      float64\n",
              "LOW               float64\n",
              "Month               int64\n",
              "dtype: object"
            ]
          },
          "metadata": {},
          "execution_count": 22
        }
      ]
    },
    {
      "cell_type": "code",
      "source": [
        "from sklearn.preprocessing import LabelEncoder\n",
        "label_encoder = LabelEncoder()\n",
        "df['SYMBOL1'] = label_encoder.fit_transform(df['SYMBOL1'])"
      ],
      "metadata": {
        "id": "04xp5QAUJVW6"
      },
      "execution_count": 23,
      "outputs": []
    },
    {
      "cell_type": "markdown",
      "source": [
        "## Normalization"
      ],
      "metadata": {
        "id": "hSvW-TlLGkdh"
      }
    },
    {
      "cell_type": "code",
      "source": [
        "from sklearn.preprocessing import MinMaxScaler\n",
        "scaler = MinMaxScaler()\n",
        "cat_columns=['VOLUME','TRADE_QTY','NO_OF_TRADES','HIGH','BEST_ASK_PRICE','BEST_ASK_QTY','BEST_BID_PRICE','BEST_BID_QTY','LOW']\n",
        "df[cat_columns] = scaler.fit_transform(df[cat_columns])\n",
        "df.head()"
      ],
      "metadata": {
        "colab": {
          "base_uri": "https://localhost:8080/",
          "height": 206
        },
        "id": "cJ-Ya-ISGOpF",
        "outputId": "f962a871-36fe-4537-ad02-2f0ffcdbb04a"
      },
      "execution_count": 24,
      "outputs": [
        {
          "output_type": "execute_result",
          "data": {
            "text/plain": [
              "   SEC_CODE  SYMBOL1  MARKET    VOLUME  TRADE_QTY  NO_OF_TRADES      HIGH  \\\n",
              "0    111001      107       1  0.022448   0.009470      0.042378  0.082059   \n",
              "1    111002      112       1  0.001433   0.001569      0.009417  0.031475   \n",
              "2    111003       87       2  0.000082   0.000126      0.003531  0.022707   \n",
              "3    111004      192       1  0.000176   0.000068      0.002354  0.088804   \n",
              "4    111006      183       1  0.003273   0.002589      0.005886  0.044065   \n",
              "\n",
              "   BEST_ASK_PRICE  BEST_ASK_QTY  BEST_BID_PRICE  BEST_BID_QTY       LOW  Month  \n",
              "0        0.042308      0.000575        0.042338      0.000555  0.082671      1  \n",
              "1        0.009231      0.000484        0.009351      0.000436  0.031797      1  \n",
              "2        0.003590      0.001820        0.003636      0.000278  0.022485      1  \n",
              "3        0.002308      0.000648        0.002338      0.000013  0.089484      1  \n",
              "4        0.005897      0.000982        0.005974      0.000092  0.044061      1  "
            ],
            "text/html": [
              "\n",
              "  <div id=\"df-dad11789-60f2-43ee-ae58-f416f7bc2f65\">\n",
              "    <div class=\"colab-df-container\">\n",
              "      <div>\n",
              "<style scoped>\n",
              "    .dataframe tbody tr th:only-of-type {\n",
              "        vertical-align: middle;\n",
              "    }\n",
              "\n",
              "    .dataframe tbody tr th {\n",
              "        vertical-align: top;\n",
              "    }\n",
              "\n",
              "    .dataframe thead th {\n",
              "        text-align: right;\n",
              "    }\n",
              "</style>\n",
              "<table border=\"1\" class=\"dataframe\">\n",
              "  <thead>\n",
              "    <tr style=\"text-align: right;\">\n",
              "      <th></th>\n",
              "      <th>SEC_CODE</th>\n",
              "      <th>SYMBOL1</th>\n",
              "      <th>MARKET</th>\n",
              "      <th>VOLUME</th>\n",
              "      <th>TRADE_QTY</th>\n",
              "      <th>NO_OF_TRADES</th>\n",
              "      <th>HIGH</th>\n",
              "      <th>BEST_ASK_PRICE</th>\n",
              "      <th>BEST_ASK_QTY</th>\n",
              "      <th>BEST_BID_PRICE</th>\n",
              "      <th>BEST_BID_QTY</th>\n",
              "      <th>LOW</th>\n",
              "      <th>Month</th>\n",
              "    </tr>\n",
              "  </thead>\n",
              "  <tbody>\n",
              "    <tr>\n",
              "      <th>0</th>\n",
              "      <td>111001</td>\n",
              "      <td>107</td>\n",
              "      <td>1</td>\n",
              "      <td>0.022448</td>\n",
              "      <td>0.009470</td>\n",
              "      <td>0.042378</td>\n",
              "      <td>0.082059</td>\n",
              "      <td>0.042308</td>\n",
              "      <td>0.000575</td>\n",
              "      <td>0.042338</td>\n",
              "      <td>0.000555</td>\n",
              "      <td>0.082671</td>\n",
              "      <td>1</td>\n",
              "    </tr>\n",
              "    <tr>\n",
              "      <th>1</th>\n",
              "      <td>111002</td>\n",
              "      <td>112</td>\n",
              "      <td>1</td>\n",
              "      <td>0.001433</td>\n",
              "      <td>0.001569</td>\n",
              "      <td>0.009417</td>\n",
              "      <td>0.031475</td>\n",
              "      <td>0.009231</td>\n",
              "      <td>0.000484</td>\n",
              "      <td>0.009351</td>\n",
              "      <td>0.000436</td>\n",
              "      <td>0.031797</td>\n",
              "      <td>1</td>\n",
              "    </tr>\n",
              "    <tr>\n",
              "      <th>2</th>\n",
              "      <td>111003</td>\n",
              "      <td>87</td>\n",
              "      <td>2</td>\n",
              "      <td>0.000082</td>\n",
              "      <td>0.000126</td>\n",
              "      <td>0.003531</td>\n",
              "      <td>0.022707</td>\n",
              "      <td>0.003590</td>\n",
              "      <td>0.001820</td>\n",
              "      <td>0.003636</td>\n",
              "      <td>0.000278</td>\n",
              "      <td>0.022485</td>\n",
              "      <td>1</td>\n",
              "    </tr>\n",
              "    <tr>\n",
              "      <th>3</th>\n",
              "      <td>111004</td>\n",
              "      <td>192</td>\n",
              "      <td>1</td>\n",
              "      <td>0.000176</td>\n",
              "      <td>0.000068</td>\n",
              "      <td>0.002354</td>\n",
              "      <td>0.088804</td>\n",
              "      <td>0.002308</td>\n",
              "      <td>0.000648</td>\n",
              "      <td>0.002338</td>\n",
              "      <td>0.000013</td>\n",
              "      <td>0.089484</td>\n",
              "      <td>1</td>\n",
              "    </tr>\n",
              "    <tr>\n",
              "      <th>4</th>\n",
              "      <td>111006</td>\n",
              "      <td>183</td>\n",
              "      <td>1</td>\n",
              "      <td>0.003273</td>\n",
              "      <td>0.002589</td>\n",
              "      <td>0.005886</td>\n",
              "      <td>0.044065</td>\n",
              "      <td>0.005897</td>\n",
              "      <td>0.000982</td>\n",
              "      <td>0.005974</td>\n",
              "      <td>0.000092</td>\n",
              "      <td>0.044061</td>\n",
              "      <td>1</td>\n",
              "    </tr>\n",
              "  </tbody>\n",
              "</table>\n",
              "</div>\n",
              "      <button class=\"colab-df-convert\" onclick=\"convertToInteractive('df-dad11789-60f2-43ee-ae58-f416f7bc2f65')\"\n",
              "              title=\"Convert this dataframe to an interactive table.\"\n",
              "              style=\"display:none;\">\n",
              "        \n",
              "  <svg xmlns=\"http://www.w3.org/2000/svg\" height=\"24px\"viewBox=\"0 0 24 24\"\n",
              "       width=\"24px\">\n",
              "    <path d=\"M0 0h24v24H0V0z\" fill=\"none\"/>\n",
              "    <path d=\"M18.56 5.44l.94 2.06.94-2.06 2.06-.94-2.06-.94-.94-2.06-.94 2.06-2.06.94zm-11 1L8.5 8.5l.94-2.06 2.06-.94-2.06-.94L8.5 2.5l-.94 2.06-2.06.94zm10 10l.94 2.06.94-2.06 2.06-.94-2.06-.94-.94-2.06-.94 2.06-2.06.94z\"/><path d=\"M17.41 7.96l-1.37-1.37c-.4-.4-.92-.59-1.43-.59-.52 0-1.04.2-1.43.59L10.3 9.45l-7.72 7.72c-.78.78-.78 2.05 0 2.83L4 21.41c.39.39.9.59 1.41.59.51 0 1.02-.2 1.41-.59l7.78-7.78 2.81-2.81c.8-.78.8-2.07 0-2.86zM5.41 20L4 18.59l7.72-7.72 1.47 1.35L5.41 20z\"/>\n",
              "  </svg>\n",
              "      </button>\n",
              "      \n",
              "  <style>\n",
              "    .colab-df-container {\n",
              "      display:flex;\n",
              "      flex-wrap:wrap;\n",
              "      gap: 12px;\n",
              "    }\n",
              "\n",
              "    .colab-df-convert {\n",
              "      background-color: #E8F0FE;\n",
              "      border: none;\n",
              "      border-radius: 50%;\n",
              "      cursor: pointer;\n",
              "      display: none;\n",
              "      fill: #1967D2;\n",
              "      height: 32px;\n",
              "      padding: 0 0 0 0;\n",
              "      width: 32px;\n",
              "    }\n",
              "\n",
              "    .colab-df-convert:hover {\n",
              "      background-color: #E2EBFA;\n",
              "      box-shadow: 0px 1px 2px rgba(60, 64, 67, 0.3), 0px 1px 3px 1px rgba(60, 64, 67, 0.15);\n",
              "      fill: #174EA6;\n",
              "    }\n",
              "\n",
              "    [theme=dark] .colab-df-convert {\n",
              "      background-color: #3B4455;\n",
              "      fill: #D2E3FC;\n",
              "    }\n",
              "\n",
              "    [theme=dark] .colab-df-convert:hover {\n",
              "      background-color: #434B5C;\n",
              "      box-shadow: 0px 1px 3px 1px rgba(0, 0, 0, 0.15);\n",
              "      filter: drop-shadow(0px 1px 2px rgba(0, 0, 0, 0.3));\n",
              "      fill: #FFFFFF;\n",
              "    }\n",
              "  </style>\n",
              "\n",
              "      <script>\n",
              "        const buttonEl =\n",
              "          document.querySelector('#df-dad11789-60f2-43ee-ae58-f416f7bc2f65 button.colab-df-convert');\n",
              "        buttonEl.style.display =\n",
              "          google.colab.kernel.accessAllowed ? 'block' : 'none';\n",
              "\n",
              "        async function convertToInteractive(key) {\n",
              "          const element = document.querySelector('#df-dad11789-60f2-43ee-ae58-f416f7bc2f65');\n",
              "          const dataTable =\n",
              "            await google.colab.kernel.invokeFunction('convertToInteractive',\n",
              "                                                     [key], {});\n",
              "          if (!dataTable) return;\n",
              "\n",
              "          const docLinkHtml = 'Like what you see? Visit the ' +\n",
              "            '<a target=\"_blank\" href=https://colab.research.google.com/notebooks/data_table.ipynb>data table notebook</a>'\n",
              "            + ' to learn more about interactive tables.';\n",
              "          element.innerHTML = '';\n",
              "          dataTable['output_type'] = 'display_data';\n",
              "          await google.colab.output.renderOutput(dataTable, element);\n",
              "          const docLink = document.createElement('div');\n",
              "          docLink.innerHTML = docLinkHtml;\n",
              "          element.appendChild(docLink);\n",
              "        }\n",
              "      </script>\n",
              "    </div>\n",
              "  </div>\n",
              "  "
            ]
          },
          "metadata": {},
          "execution_count": 24
        }
      ]
    },
    {
      "cell_type": "markdown",
      "source": [
        "## Predicting 'High' column"
      ],
      "metadata": {
        "id": "kNxrgLYGOImZ"
      }
    },
    {
      "cell_type": "code",
      "source": [
        "from sklearn.model_selection import train_test_split\n",
        "from sklearn.metrics import mean_absolute_error, mean_squared_error, r2_score\n",
        "from sklearn.linear_model import LinearRegression\n",
        "from sklearn.neighbors import KNeighborsRegressor\n",
        "from sklearn.tree import DecisionTreeRegressor\n",
        "from sklearn.feature_selection import SequentialFeatureSelector\n",
        "from sklearn.feature_selection import SelectKBest, f_regression"
      ],
      "metadata": {
        "id": "3apWYo1WpoqD"
      },
      "execution_count": 25,
      "outputs": []
    },
    {
      "cell_type": "code",
      "source": [
        "df1=df.copy()\n",
        "df1=df1.drop(['LOW'],axis=1)\n",
        "df1"
      ],
      "metadata": {
        "colab": {
          "base_uri": "https://localhost:8080/",
          "height": 423
        },
        "id": "DVfKQXUMKpRW",
        "outputId": "3607a896-3695-4219-e8ab-d27185efb221"
      },
      "execution_count": 26,
      "outputs": [
        {
          "output_type": "execute_result",
          "data": {
            "text/plain": [
              "       SEC_CODE  SYMBOL1  MARKET    VOLUME  TRADE_QTY  NO_OF_TRADES      HIGH  \\\n",
              "0        111001      107       1  0.022448   0.009470      0.042378  0.082059   \n",
              "1        111002      112       1  0.001433   0.001569      0.009417  0.031475   \n",
              "2        111003       87       2  0.000082   0.000126      0.003531  0.022707   \n",
              "3        111004      192       1  0.000176   0.000068      0.002354  0.088804   \n",
              "4        111006      183       1  0.003273   0.002589      0.005886  0.044065   \n",
              "...         ...      ...     ...       ...        ...           ...       ...   \n",
              "28007    141214       34       2  0.115631   0.345130      0.014126  0.011241   \n",
              "28008    141215      200       2  0.000017   0.000079      0.000589  0.007194   \n",
              "28009    141223      178       2  0.006475   0.001789      0.007652  0.125674   \n",
              "28010    141224      151       1  0.000128   0.000087      0.000000  0.050585   \n",
              "28011    142041      119       1  0.103848   0.029751      0.333726  0.124775   \n",
              "\n",
              "       BEST_ASK_PRICE  BEST_ASK_QTY  BEST_BID_PRICE  BEST_BID_QTY  Month  \n",
              "0            0.042308      0.000575        0.042338      0.000555      1  \n",
              "1            0.009231      0.000484        0.009351      0.000436      1  \n",
              "2            0.003590      0.001820        0.003636      0.000278      1  \n",
              "3            0.002308      0.000648        0.002338      0.000013      1  \n",
              "4            0.005897      0.000982        0.005974      0.000092      1  \n",
              "...               ...           ...             ...           ...    ...  \n",
              "28007        0.014103      0.002419        0.014026      0.000000     10  \n",
              "28008        0.000513      0.006836        0.000519      0.004085     10  \n",
              "28009        0.007436      0.000069        0.007532      0.000000     10  \n",
              "28010        0.000000      0.000491        0.000000      0.000139     10  \n",
              "28011        0.333846      0.001030        0.333766      0.000006     10  \n",
              "\n",
              "[28012 rows x 12 columns]"
            ],
            "text/html": [
              "\n",
              "  <div id=\"df-d1a98e66-b62a-4da6-9b1b-7c5d75a782c4\">\n",
              "    <div class=\"colab-df-container\">\n",
              "      <div>\n",
              "<style scoped>\n",
              "    .dataframe tbody tr th:only-of-type {\n",
              "        vertical-align: middle;\n",
              "    }\n",
              "\n",
              "    .dataframe tbody tr th {\n",
              "        vertical-align: top;\n",
              "    }\n",
              "\n",
              "    .dataframe thead th {\n",
              "        text-align: right;\n",
              "    }\n",
              "</style>\n",
              "<table border=\"1\" class=\"dataframe\">\n",
              "  <thead>\n",
              "    <tr style=\"text-align: right;\">\n",
              "      <th></th>\n",
              "      <th>SEC_CODE</th>\n",
              "      <th>SYMBOL1</th>\n",
              "      <th>MARKET</th>\n",
              "      <th>VOLUME</th>\n",
              "      <th>TRADE_QTY</th>\n",
              "      <th>NO_OF_TRADES</th>\n",
              "      <th>HIGH</th>\n",
              "      <th>BEST_ASK_PRICE</th>\n",
              "      <th>BEST_ASK_QTY</th>\n",
              "      <th>BEST_BID_PRICE</th>\n",
              "      <th>BEST_BID_QTY</th>\n",
              "      <th>Month</th>\n",
              "    </tr>\n",
              "  </thead>\n",
              "  <tbody>\n",
              "    <tr>\n",
              "      <th>0</th>\n",
              "      <td>111001</td>\n",
              "      <td>107</td>\n",
              "      <td>1</td>\n",
              "      <td>0.022448</td>\n",
              "      <td>0.009470</td>\n",
              "      <td>0.042378</td>\n",
              "      <td>0.082059</td>\n",
              "      <td>0.042308</td>\n",
              "      <td>0.000575</td>\n",
              "      <td>0.042338</td>\n",
              "      <td>0.000555</td>\n",
              "      <td>1</td>\n",
              "    </tr>\n",
              "    <tr>\n",
              "      <th>1</th>\n",
              "      <td>111002</td>\n",
              "      <td>112</td>\n",
              "      <td>1</td>\n",
              "      <td>0.001433</td>\n",
              "      <td>0.001569</td>\n",
              "      <td>0.009417</td>\n",
              "      <td>0.031475</td>\n",
              "      <td>0.009231</td>\n",
              "      <td>0.000484</td>\n",
              "      <td>0.009351</td>\n",
              "      <td>0.000436</td>\n",
              "      <td>1</td>\n",
              "    </tr>\n",
              "    <tr>\n",
              "      <th>2</th>\n",
              "      <td>111003</td>\n",
              "      <td>87</td>\n",
              "      <td>2</td>\n",
              "      <td>0.000082</td>\n",
              "      <td>0.000126</td>\n",
              "      <td>0.003531</td>\n",
              "      <td>0.022707</td>\n",
              "      <td>0.003590</td>\n",
              "      <td>0.001820</td>\n",
              "      <td>0.003636</td>\n",
              "      <td>0.000278</td>\n",
              "      <td>1</td>\n",
              "    </tr>\n",
              "    <tr>\n",
              "      <th>3</th>\n",
              "      <td>111004</td>\n",
              "      <td>192</td>\n",
              "      <td>1</td>\n",
              "      <td>0.000176</td>\n",
              "      <td>0.000068</td>\n",
              "      <td>0.002354</td>\n",
              "      <td>0.088804</td>\n",
              "      <td>0.002308</td>\n",
              "      <td>0.000648</td>\n",
              "      <td>0.002338</td>\n",
              "      <td>0.000013</td>\n",
              "      <td>1</td>\n",
              "    </tr>\n",
              "    <tr>\n",
              "      <th>4</th>\n",
              "      <td>111006</td>\n",
              "      <td>183</td>\n",
              "      <td>1</td>\n",
              "      <td>0.003273</td>\n",
              "      <td>0.002589</td>\n",
              "      <td>0.005886</td>\n",
              "      <td>0.044065</td>\n",
              "      <td>0.005897</td>\n",
              "      <td>0.000982</td>\n",
              "      <td>0.005974</td>\n",
              "      <td>0.000092</td>\n",
              "      <td>1</td>\n",
              "    </tr>\n",
              "    <tr>\n",
              "      <th>...</th>\n",
              "      <td>...</td>\n",
              "      <td>...</td>\n",
              "      <td>...</td>\n",
              "      <td>...</td>\n",
              "      <td>...</td>\n",
              "      <td>...</td>\n",
              "      <td>...</td>\n",
              "      <td>...</td>\n",
              "      <td>...</td>\n",
              "      <td>...</td>\n",
              "      <td>...</td>\n",
              "      <td>...</td>\n",
              "    </tr>\n",
              "    <tr>\n",
              "      <th>28007</th>\n",
              "      <td>141214</td>\n",
              "      <td>34</td>\n",
              "      <td>2</td>\n",
              "      <td>0.115631</td>\n",
              "      <td>0.345130</td>\n",
              "      <td>0.014126</td>\n",
              "      <td>0.011241</td>\n",
              "      <td>0.014103</td>\n",
              "      <td>0.002419</td>\n",
              "      <td>0.014026</td>\n",
              "      <td>0.000000</td>\n",
              "      <td>10</td>\n",
              "    </tr>\n",
              "    <tr>\n",
              "      <th>28008</th>\n",
              "      <td>141215</td>\n",
              "      <td>200</td>\n",
              "      <td>2</td>\n",
              "      <td>0.000017</td>\n",
              "      <td>0.000079</td>\n",
              "      <td>0.000589</td>\n",
              "      <td>0.007194</td>\n",
              "      <td>0.000513</td>\n",
              "      <td>0.006836</td>\n",
              "      <td>0.000519</td>\n",
              "      <td>0.004085</td>\n",
              "      <td>10</td>\n",
              "    </tr>\n",
              "    <tr>\n",
              "      <th>28009</th>\n",
              "      <td>141223</td>\n",
              "      <td>178</td>\n",
              "      <td>2</td>\n",
              "      <td>0.006475</td>\n",
              "      <td>0.001789</td>\n",
              "      <td>0.007652</td>\n",
              "      <td>0.125674</td>\n",
              "      <td>0.007436</td>\n",
              "      <td>0.000069</td>\n",
              "      <td>0.007532</td>\n",
              "      <td>0.000000</td>\n",
              "      <td>10</td>\n",
              "    </tr>\n",
              "    <tr>\n",
              "      <th>28010</th>\n",
              "      <td>141224</td>\n",
              "      <td>151</td>\n",
              "      <td>1</td>\n",
              "      <td>0.000128</td>\n",
              "      <td>0.000087</td>\n",
              "      <td>0.000000</td>\n",
              "      <td>0.050585</td>\n",
              "      <td>0.000000</td>\n",
              "      <td>0.000491</td>\n",
              "      <td>0.000000</td>\n",
              "      <td>0.000139</td>\n",
              "      <td>10</td>\n",
              "    </tr>\n",
              "    <tr>\n",
              "      <th>28011</th>\n",
              "      <td>142041</td>\n",
              "      <td>119</td>\n",
              "      <td>1</td>\n",
              "      <td>0.103848</td>\n",
              "      <td>0.029751</td>\n",
              "      <td>0.333726</td>\n",
              "      <td>0.124775</td>\n",
              "      <td>0.333846</td>\n",
              "      <td>0.001030</td>\n",
              "      <td>0.333766</td>\n",
              "      <td>0.000006</td>\n",
              "      <td>10</td>\n",
              "    </tr>\n",
              "  </tbody>\n",
              "</table>\n",
              "<p>28012 rows × 12 columns</p>\n",
              "</div>\n",
              "      <button class=\"colab-df-convert\" onclick=\"convertToInteractive('df-d1a98e66-b62a-4da6-9b1b-7c5d75a782c4')\"\n",
              "              title=\"Convert this dataframe to an interactive table.\"\n",
              "              style=\"display:none;\">\n",
              "        \n",
              "  <svg xmlns=\"http://www.w3.org/2000/svg\" height=\"24px\"viewBox=\"0 0 24 24\"\n",
              "       width=\"24px\">\n",
              "    <path d=\"M0 0h24v24H0V0z\" fill=\"none\"/>\n",
              "    <path d=\"M18.56 5.44l.94 2.06.94-2.06 2.06-.94-2.06-.94-.94-2.06-.94 2.06-2.06.94zm-11 1L8.5 8.5l.94-2.06 2.06-.94-2.06-.94L8.5 2.5l-.94 2.06-2.06.94zm10 10l.94 2.06.94-2.06 2.06-.94-2.06-.94-.94-2.06-.94 2.06-2.06.94z\"/><path d=\"M17.41 7.96l-1.37-1.37c-.4-.4-.92-.59-1.43-.59-.52 0-1.04.2-1.43.59L10.3 9.45l-7.72 7.72c-.78.78-.78 2.05 0 2.83L4 21.41c.39.39.9.59 1.41.59.51 0 1.02-.2 1.41-.59l7.78-7.78 2.81-2.81c.8-.78.8-2.07 0-2.86zM5.41 20L4 18.59l7.72-7.72 1.47 1.35L5.41 20z\"/>\n",
              "  </svg>\n",
              "      </button>\n",
              "      \n",
              "  <style>\n",
              "    .colab-df-container {\n",
              "      display:flex;\n",
              "      flex-wrap:wrap;\n",
              "      gap: 12px;\n",
              "    }\n",
              "\n",
              "    .colab-df-convert {\n",
              "      background-color: #E8F0FE;\n",
              "      border: none;\n",
              "      border-radius: 50%;\n",
              "      cursor: pointer;\n",
              "      display: none;\n",
              "      fill: #1967D2;\n",
              "      height: 32px;\n",
              "      padding: 0 0 0 0;\n",
              "      width: 32px;\n",
              "    }\n",
              "\n",
              "    .colab-df-convert:hover {\n",
              "      background-color: #E2EBFA;\n",
              "      box-shadow: 0px 1px 2px rgba(60, 64, 67, 0.3), 0px 1px 3px 1px rgba(60, 64, 67, 0.15);\n",
              "      fill: #174EA6;\n",
              "    }\n",
              "\n",
              "    [theme=dark] .colab-df-convert {\n",
              "      background-color: #3B4455;\n",
              "      fill: #D2E3FC;\n",
              "    }\n",
              "\n",
              "    [theme=dark] .colab-df-convert:hover {\n",
              "      background-color: #434B5C;\n",
              "      box-shadow: 0px 1px 3px 1px rgba(0, 0, 0, 0.15);\n",
              "      filter: drop-shadow(0px 1px 2px rgba(0, 0, 0, 0.3));\n",
              "      fill: #FFFFFF;\n",
              "    }\n",
              "  </style>\n",
              "\n",
              "      <script>\n",
              "        const buttonEl =\n",
              "          document.querySelector('#df-d1a98e66-b62a-4da6-9b1b-7c5d75a782c4 button.colab-df-convert');\n",
              "        buttonEl.style.display =\n",
              "          google.colab.kernel.accessAllowed ? 'block' : 'none';\n",
              "\n",
              "        async function convertToInteractive(key) {\n",
              "          const element = document.querySelector('#df-d1a98e66-b62a-4da6-9b1b-7c5d75a782c4');\n",
              "          const dataTable =\n",
              "            await google.colab.kernel.invokeFunction('convertToInteractive',\n",
              "                                                     [key], {});\n",
              "          if (!dataTable) return;\n",
              "\n",
              "          const docLinkHtml = 'Like what you see? Visit the ' +\n",
              "            '<a target=\"_blank\" href=https://colab.research.google.com/notebooks/data_table.ipynb>data table notebook</a>'\n",
              "            + ' to learn more about interactive tables.';\n",
              "          element.innerHTML = '';\n",
              "          dataTable['output_type'] = 'display_data';\n",
              "          await google.colab.output.renderOutput(dataTable, element);\n",
              "          const docLink = document.createElement('div');\n",
              "          docLink.innerHTML = docLinkHtml;\n",
              "          element.appendChild(docLink);\n",
              "        }\n",
              "      </script>\n",
              "    </div>\n",
              "  </div>\n",
              "  "
            ]
          },
          "metadata": {},
          "execution_count": 26
        }
      ]
    },
    {
      "cell_type": "code",
      "source": [
        "X=df1.drop(['HIGH'],axis=1)\n",
        "y=df1['HIGH']"
      ],
      "metadata": {
        "id": "X8VhIgA7p_ZI"
      },
      "execution_count": 27,
      "outputs": []
    },
    {
      "cell_type": "markdown",
      "source": [
        "### Linear regression"
      ],
      "metadata": {
        "id": "IxIW67mjbAlB"
      }
    },
    {
      "cell_type": "code",
      "source": [
        "LRModel = LinearRegression()"
      ],
      "metadata": {
        "id": "7IvvaTYFdegj"
      },
      "execution_count": 28,
      "outputs": []
    },
    {
      "cell_type": "code",
      "source": [
        "MAESum=0\n",
        "MSESum=0\n",
        "RMSESum=0\n",
        "R2Sum=0\n",
        "results={}\n",
        "sfs = SequentialFeatureSelector(LRModel, n_features_to_select=7, direction='forward')\n",
        "sfs.fit(X, y)\n",
        "selected_features = X.columns[sfs.get_support()]\n",
        "print(\"Selected features:\", selected_features)\n",
        "for i in range(30):\n",
        "  X_train, X_test, y_train, y_test = train_test_split(X[selected_features], y, test_size=0.2,random_state=i)\n",
        "  LRModel.fit(X_train, y_train)\n",
        "  y_pred = LRModel.predict(X_test)\n",
        "  mae = mean_absolute_error(y_test, y_pred)\n",
        "  MAESum=MAESum+mae\n",
        "  mse = mean_squared_error(y_test, y_pred)\n",
        "  MSESum=MSESum+mse\n",
        "  rmse = mean_squared_error(y_test, y_pred, squared=False)\n",
        "  RMSESum=RMSESum+rmse\n",
        "  r2 = r2_score(y_test, y_pred)\n",
        "  R2Sum=R2Sum+ r2\n",
        "\n",
        "print('Average MAE:', round(MAESum/30, 3))\n",
        "print('Average MSE:', round(MSESum/30,3))\n",
        "print('Average RMSE:', round(RMSESum/30,3))\n",
        "print('Average R2 :', round(R2Sum/30,3))\n",
        "results['LR with sfs']={'R2':round(R2Sum/30,3),'RMSE':round(RMSESum/30,3)}"
      ],
      "metadata": {
        "colab": {
          "base_uri": "https://localhost:8080/"
        },
        "id": "lWkUoJ2TxZJH",
        "outputId": "82fea5f6-21f0-4223-de0a-1ce4adc41d77"
      },
      "execution_count": 29,
      "outputs": [
        {
          "output_type": "stream",
          "name": "stdout",
          "text": [
            "Selected features: Index(['SEC_CODE', 'SYMBOL1', 'MARKET', 'VOLUME', 'TRADE_QTY',\n",
            "       'BEST_ASK_PRICE', 'BEST_ASK_QTY'],\n",
            "      dtype='object')\n",
            "Average MAE: 0.036\n",
            "Average MSE: 0.009\n",
            "Average RMSE: 0.095\n",
            "Average R2 : 0.185\n"
          ]
        }
      ]
    },
    {
      "cell_type": "code",
      "source": [
        "MAESum=0\n",
        "MSESum=0\n",
        "RMSESum=0\n",
        "R2Sum=0\n",
        "selector = SelectKBest(f_regression, k=7)\n",
        "selector.fit(X, y)\n",
        "selected_features= X.columns[selector.get_support()]\n",
        "print(\"Selected features:\", X.columns[selector.get_support()])\n",
        "for i in range(30):\n",
        "  X_train, X_test, y_train, y_test = train_test_split(X[selected_features], y, test_size=0.2,random_state=i)\n",
        "  LRModel.fit(X_train, y_train)\n",
        "  y_pred = LRModel.predict(X_test)\n",
        "  mae = mean_absolute_error(y_test, y_pred)\n",
        "  MAESum=MAESum+mae\n",
        "  mse = mean_squared_error(y_test, y_pred)\n",
        "  MSESum=MSESum+mse\n",
        "  rmse = mean_squared_error(y_test, y_pred, squared=False)\n",
        "  RMSESum=RMSESum+rmse\n",
        "  r2 = r2_score(y_test, y_pred)\n",
        "  R2Sum=R2Sum+ r2\n",
        "\n",
        "print('Average MAE:', round(MAESum/30, 3))\n",
        "print('Average MSE:', round(MSESum/30,3))\n",
        "print('Average RMSE:', round(RMSESum/30,3))\n",
        "print('Average R2 :', round(R2Sum/30,3))\n",
        "results['LR with Kbest']={'R2':round(R2Sum/30,3),'RMSE':round(RMSESum/30,3)}"
      ],
      "metadata": {
        "colab": {
          "base_uri": "https://localhost:8080/"
        },
        "id": "AAPCCyy2VBQR",
        "outputId": "bdf39f4c-cfde-4342-c776-812e90af4ee6"
      },
      "execution_count": 30,
      "outputs": [
        {
          "output_type": "stream",
          "name": "stdout",
          "text": [
            "Selected features: Index(['SEC_CODE', 'MARKET', 'VOLUME', 'NO_OF_TRADES', 'BEST_ASK_PRICE',\n",
            "       'BEST_ASK_QTY', 'BEST_BID_PRICE'],\n",
            "      dtype='object')\n",
            "Average MAE: 0.038\n",
            "Average MSE: 0.01\n",
            "Average RMSE: 0.098\n",
            "Average R2 : 0.128\n"
          ]
        }
      ]
    },
    {
      "cell_type": "markdown",
      "source": [
        "### Decision tree regression"
      ],
      "metadata": {
        "id": "B2SYCbhibLjx"
      }
    },
    {
      "cell_type": "code",
      "source": [
        "DTModel = DecisionTreeRegressor()"
      ],
      "metadata": {
        "id": "39W9E97Oda8_"
      },
      "execution_count": 31,
      "outputs": []
    },
    {
      "cell_type": "code",
      "source": [
        "MAESum=0\n",
        "MSESum=0\n",
        "RMSESum=0\n",
        "R2Sum=0\n",
        "r2lst=[]\n",
        "sfs = SequentialFeatureSelector(DTModel, n_features_to_select=7, direction='forward')\n",
        "sfs.fit(X, y)\n",
        "selected_features = X.columns[sfs.get_support()]\n",
        "print(\"Selected features:\", selected_features)\n",
        "for i in range(30):\n",
        "  X_train, X_test, y_train, y_test = train_test_split(X[selected_features], y, test_size=0.2,random_state=i)\n",
        "  DTModel.fit(X_train, y_train)\n",
        "  y_pred = DTModel.predict(X_test)\n",
        "  mae = mean_absolute_error(y_test, y_pred)\n",
        "  MAESum=MAESum+mae\n",
        "  mse = mean_squared_error(y_test, y_pred)\n",
        "  MSESum=MSESum+mse\n",
        "  rmse = mean_squared_error(y_test, y_pred, squared=False)\n",
        "  RMSESum=RMSESum+rmse\n",
        "  r2 = r2_score(y_test, y_pred)\n",
        "  R2Sum=R2Sum+ r2\n",
        "  r2lst.append(r2)\n",
        "print('Average MAE:', round(MAESum/30, 3))\n",
        "print('Average MSE:', round(MSESum/30,3))\n",
        "print('Average RMSE:', round(RMSESum/30,3))\n",
        "print('Average R2 :', round(R2Sum/30,3))\n",
        "results['DT with sfs']={'R2':round(R2Sum/30,3),'RMSE':round(RMSESum/30,3)}"
      ],
      "metadata": {
        "colab": {
          "base_uri": "https://localhost:8080/"
        },
        "id": "Lx-Dltynyg12",
        "outputId": "d0ed4184-b36b-4910-baee-006bf26674f3"
      },
      "execution_count": 32,
      "outputs": [
        {
          "output_type": "stream",
          "name": "stdout",
          "text": [
            "Selected features: Index(['SEC_CODE', 'SYMBOL1', 'MARKET', 'NO_OF_TRADES', 'BEST_ASK_PRICE',\n",
            "       'BEST_BID_PRICE', 'Month'],\n",
            "      dtype='object')\n",
            "Average MAE: 0.004\n",
            "Average MSE: 0.001\n",
            "Average RMSE: 0.023\n",
            "Average R2 : 0.95\n"
          ]
        }
      ]
    },
    {
      "cell_type": "code",
      "source": [
        "MAESum=0\n",
        "MSESum=0\n",
        "RMSESum=0\n",
        "R2Sum=0\n",
        "selector = SelectKBest(f_regression, k=7)\n",
        "selector.fit(X, y)\n",
        "selected_features= X.columns[selector.get_support()]\n",
        "print(\"Selected features:\", X.columns[selector.get_support()])\n",
        "for i in range(30):\n",
        "  X_train, X_test, y_train, y_test = train_test_split(X[selected_features], y, test_size=0.2,random_state=i)\n",
        "  DTModel.fit(X_train, y_train)\n",
        "  y_pred = DTModel.predict(X_test)\n",
        "  mae = mean_absolute_error(y_test, y_pred)\n",
        "  MAESum=MAESum+mae\n",
        "  mse = mean_squared_error(y_test, y_pred)\n",
        "  MSESum=MSESum+mse\n",
        "  rmse = mean_squared_error(y_test, y_pred, squared=False)\n",
        "  RMSESum=RMSESum+rmse\n",
        "  r2 = r2_score(y_test, y_pred)\n",
        "  R2Sum=R2Sum+ r2\n",
        "\n",
        "print('Average MAE:', round(MAESum/30, 3))\n",
        "print('Average MSE:', round(MSESum/30,3))\n",
        "print('Average RMSE:', round(RMSESum/30,3))\n",
        "print('Average R2 :', round(R2Sum/30,3))\n",
        "results['DT with Kbest']={'R2':round(R2Sum/30,3),'RMSE':round(RMSESum/30,3)}"
      ],
      "metadata": {
        "colab": {
          "base_uri": "https://localhost:8080/"
        },
        "id": "kEs0odzbk2hD",
        "outputId": "bde34f70-e509-4ab2-fd85-5334edfc0e5f"
      },
      "execution_count": 33,
      "outputs": [
        {
          "output_type": "stream",
          "name": "stdout",
          "text": [
            "Selected features: Index(['SEC_CODE', 'MARKET', 'VOLUME', 'NO_OF_TRADES', 'BEST_ASK_PRICE',\n",
            "       'BEST_ASK_QTY', 'BEST_BID_PRICE'],\n",
            "      dtype='object')\n",
            "Average MAE: 0.006\n",
            "Average MSE: 0.001\n",
            "Average RMSE: 0.031\n",
            "Average R2 : 0.909\n"
          ]
        }
      ]
    },
    {
      "cell_type": "markdown",
      "source": [
        "### K-Nearest Neighbors regression"
      ],
      "metadata": {
        "id": "7fM_V6NqbeT9"
      }
    },
    {
      "cell_type": "code",
      "source": [
        "KNNModel =KNeighborsRegressor(n_neighbors=3)"
      ],
      "metadata": {
        "id": "3kP01I3ldXBZ"
      },
      "execution_count": 34,
      "outputs": []
    },
    {
      "cell_type": "code",
      "source": [
        "MAESum=0\n",
        "MSESum=0\n",
        "RMSESum=0\n",
        "R2Sum=0\n",
        "rmselst=[]\n",
        "sfs = SequentialFeatureSelector(KNNModel, n_features_to_select=7, direction='forward')\n",
        "sfs.fit(X, y)\n",
        "selected_features = X.columns[sfs.get_support()]\n",
        "print(\"Selected features:\", selected_features)\n",
        "for i in range(30):\n",
        "  X_train, X_test, y_train, y_test = train_test_split(X[selected_features], y, test_size=0.2,random_state=i)\n",
        "  KNNModel.fit(X_train, y_train)\n",
        "  y_pred = KNNModel.predict(X_test)\n",
        "  mae = mean_absolute_error(y_test, y_pred)\n",
        "  MAESum=MAESum+mae\n",
        "  mse = mean_squared_error(y_test, y_pred)\n",
        "  MSESum=MSESum+mse\n",
        "  rmse = mean_squared_error(y_test, y_pred, squared=False)\n",
        "  RMSESum=RMSESum+rmse\n",
        "  rmselst.append(rmse)\n",
        "  r2 = r2_score(y_test, y_pred)\n",
        "  R2Sum=R2Sum+ r2\n",
        "\n",
        "print('Average MAE:', round(MAESum/30, 3))\n",
        "print('Average MSE:', round(MSESum/30,3))\n",
        "print('Average RMSE:', round(RMSESum/30,3))\n",
        "print('Average R2 :', round(R2Sum/30,3))\n",
        "results['KNN with sfs']={'R2':round(R2Sum/30,3),'RMSE':round(RMSESum/30,3)}"
      ],
      "metadata": {
        "colab": {
          "base_uri": "https://localhost:8080/"
        },
        "id": "6mn7ABMey8SH",
        "outputId": "e0b0f10b-2146-4b1e-e9d5-edfa6f324bca"
      },
      "execution_count": 35,
      "outputs": [
        {
          "output_type": "stream",
          "name": "stdout",
          "text": [
            "Selected features: Index(['SYMBOL1', 'MARKET', 'VOLUME', 'TRADE_QTY', 'BEST_ASK_PRICE',\n",
            "       'BEST_ASK_QTY', 'BEST_BID_QTY'],\n",
            "      dtype='object')\n",
            "Average MAE: 0.004\n",
            "Average MSE: 0.0\n",
            "Average RMSE: 0.022\n",
            "Average R2 : 0.956\n"
          ]
        }
      ]
    },
    {
      "cell_type": "code",
      "source": [
        "MAESum=0\n",
        "MSESum=0\n",
        "RMSESum=0\n",
        "R2Sum=0\n",
        "selector = SelectKBest(f_regression, k=7)\n",
        "selector.fit(X, y)\n",
        "selected_features= X.columns[selector.get_support()]\n",
        "print(\"Selected features:\", X.columns[selector.get_support()])\n",
        "for i in range(30):\n",
        "  X_train, X_test, y_train, y_test = train_test_split(X[selected_features], y, test_size=0.2,random_state=i)\n",
        "  KNNModel.fit(X_train, y_train)\n",
        "  y_pred = KNNModel.predict(X_test)\n",
        "  mae = mean_absolute_error(y_test, y_pred)\n",
        "  MAESum=MAESum+mae\n",
        "  mse = mean_squared_error(y_test, y_pred)\n",
        "  MSESum=MSESum+mse\n",
        "  rmse = mean_squared_error(y_test, y_pred, squared=False)\n",
        "  RMSESum=RMSESum+rmse\n",
        "  r2 = r2_score(y_test, y_pred)\n",
        "  R2Sum=R2Sum+ r2\n",
        "\n",
        "print('Average MAE:', round(MAESum/30, 3))\n",
        "print('Average MSE:', round(MSESum/30,3))\n",
        "print('Average RMSE:', round(RMSESum/30,3))\n",
        "print('Average R2 :', round(R2Sum/30,3))\n",
        "results['KNN with Kbest']={'R2':round(R2Sum/30,3),'RMSE':round(RMSESum/30,3)}"
      ],
      "metadata": {
        "colab": {
          "base_uri": "https://localhost:8080/"
        },
        "id": "ocgbilrqmTzM",
        "outputId": "5e596dbf-ca7c-48ac-9666-7b5f977d90e2"
      },
      "execution_count": 36,
      "outputs": [
        {
          "output_type": "stream",
          "name": "stdout",
          "text": [
            "Selected features: Index(['SEC_CODE', 'MARKET', 'VOLUME', 'NO_OF_TRADES', 'BEST_ASK_PRICE',\n",
            "       'BEST_ASK_QTY', 'BEST_BID_PRICE'],\n",
            "      dtype='object')\n",
            "Average MAE: 0.004\n",
            "Average MSE: 0.0\n",
            "Average RMSE: 0.022\n",
            "Average R2 : 0.955\n"
          ]
        }
      ]
    },
    {
      "cell_type": "markdown",
      "source": [
        "### Visualizing results of the different predictive models"
      ],
      "metadata": {
        "id": "tCxaijqgh7d3"
      }
    },
    {
      "cell_type": "code",
      "source": [
        "print(results)"
      ],
      "metadata": {
        "id": "WzJpwg5HrG_2",
        "colab": {
          "base_uri": "https://localhost:8080/"
        },
        "outputId": "23d6603f-724d-46c8-dbc7-4d22bf581ebf"
      },
      "execution_count": 37,
      "outputs": [
        {
          "output_type": "stream",
          "name": "stdout",
          "text": [
            "{'LR with sfs': {'R2': 0.185, 'RMSE': 0.095}, 'LR with Kbest': {'R2': 0.128, 'RMSE': 0.098}, 'DT with sfs': {'R2': 0.95, 'RMSE': 0.023}, 'DT with Kbest': {'R2': 0.909, 'RMSE': 0.031}, 'KNN with sfs': {'R2': 0.956, 'RMSE': 0.022}, 'KNN with Kbest': {'R2': 0.955, 'RMSE': 0.022}}\n"
          ]
        }
      ]
    },
    {
      "cell_type": "code",
      "source": [
        "def plot_metric(ax, metric_values, metric_name):\n",
        "    ax.bar(x_pos, metric_values, width=0.4)\n",
        "    ax.set_xticks(x_pos)\n",
        "    ax.set_xticklabels(model_names, rotation=45)\n",
        "    ax.set_title(metric_name)"
      ],
      "metadata": {
        "id": "B5V86kuxTTz9"
      },
      "execution_count": 38,
      "outputs": []
    },
    {
      "cell_type": "code",
      "source": [
        "model_names = list(results.keys())\n",
        "R2_values = [results[model]['R2'] for model in model_names]\n",
        "RMSE_values = [results[model]['RMSE'] for model in model_names]\n",
        "x_pos = np.arange(len(model_names))\n",
        "fig, axes = plt.subplots(1, 2, figsize=(7, 4), constrained_layout=True)\n",
        "plot_metric(axes[0], R2_values, 'R2 Score')\n",
        "plot_metric(axes[1], RMSE_values, 'Root Mean Squared Error (RMSE)')\n",
        "plt.show()"
      ],
      "metadata": {
        "id": "x8rwx88OcGIj",
        "colab": {
          "base_uri": "https://localhost:8080/",
          "height": 428
        },
        "outputId": "ac005a26-7abf-4522-beef-2da43d1c06e3"
      },
      "execution_count": 39,
      "outputs": [
        {
          "output_type": "display_data",
          "data": {
            "text/plain": [
              "<Figure size 700x400 with 2 Axes>"
            ],
            "image/png": "[encoded data removed]"
          },
          "metadata": {}
        }
      ]
    },
    {
      "cell_type": "code",
      "source": [
        "sns.boxplot(r2lst)\n",
        "plt.title('R2 values for DT with sfs')"
      ],
      "metadata": {
        "colab": {
          "base_uri": "https://localhost:8080/",
          "height": 469
        },
        "id": "zTUA1AoGZa6M",
        "outputId": "2f734ef9-921e-4510-e44a-6d077efecdac"
      },
      "execution_count": 40,
      "outputs": [
        {
          "output_type": "execute_result",
          "data": {
            "text/plain": [
              "Text(0.5, 1.0, 'R2 values for DT with sfs')"
            ]
          },
          "metadata": {},
          "execution_count": 40
        },
        {
          "output_type": "display_data",
          "data": {
            "text/plain": [
              "<Figure size 640x480 with 1 Axes>"
            ],
            "image/png": "[encoded data removed]"
          },
          "metadata": {}
        }
      ]
    },
    {
      "cell_type": "code",
      "source": [
        "sns.boxplot(rmselst)\n",
        "plt.title('RMSE values for KNN with sfs')"
      ],
      "metadata": {
        "colab": {
          "base_uri": "https://localhost:8080/",
          "height": 469
        },
        "id": "2GFUJVdCaNfR",
        "outputId": "a96d5c19-e18f-4180-d8cc-6b64656cd79d"
      },
      "execution_count": 41,
      "outputs": [
        {
          "output_type": "execute_result",
          "data": {
            "text/plain": [
              "Text(0.5, 1.0, 'RMSE values for KNN with sfs')"
            ]
          },
          "metadata": {},
          "execution_count": 41
        },
        {
          "output_type": "display_data",
          "data": {
            "text/plain": [
              "<Figure size 640x480 with 1 Axes>"
            ],
            "image/png": "[encoded data removed]"
          },
          "metadata": {}
        }
      ]
    },
    {
      "cell_type": "markdown",
      "source": [
        "## *Predicting 'Low' column*"
      ],
      "metadata": {
        "id": "IW5hDwMrsccv"
      }
    },
    {
      "cell_type": "code",
      "source": [
        "df2=df.copy()\n",
        "df2=df2.drop(['HIGH'],axis=1)\n",
        "df2"
      ],
      "metadata": {
        "id": "H-ZGtD-eLElB",
        "colab": {
          "base_uri": "https://localhost:8080/",
          "height": 423
        },
        "outputId": "dac4ea60-87f4-419e-db77-9f44ad8f0bf2"
      },
      "execution_count": 42,
      "outputs": [
        {
          "output_type": "execute_result",
          "data": {
            "text/plain": [
              "       SEC_CODE  SYMBOL1  MARKET    VOLUME  TRADE_QTY  NO_OF_TRADES  \\\n",
              "0        111001      107       1  0.022448   0.009470      0.042378   \n",
              "1        111002      112       1  0.001433   0.001569      0.009417   \n",
              "2        111003       87       2  0.000082   0.000126      0.003531   \n",
              "3        111004      192       1  0.000176   0.000068      0.002354   \n",
              "4        111006      183       1  0.003273   0.002589      0.005886   \n",
              "...         ...      ...     ...       ...        ...           ...   \n",
              "28007    141214       34       2  0.115631   0.345130      0.014126   \n",
              "28008    141215      200       2  0.000017   0.000079      0.000589   \n",
              "28009    141223      178       2  0.006475   0.001789      0.007652   \n",
              "28010    141224      151       1  0.000128   0.000087      0.000000   \n",
              "28011    142041      119       1  0.103848   0.029751      0.333726   \n",
              "\n",
              "       BEST_ASK_PRICE  BEST_ASK_QTY  BEST_BID_PRICE  BEST_BID_QTY       LOW  \\\n",
              "0            0.042308      0.000575        0.042338      0.000555  0.082671   \n",
              "1            0.009231      0.000484        0.009351      0.000436  0.031797   \n",
              "2            0.003590      0.001820        0.003636      0.000278  0.022485   \n",
              "3            0.002308      0.000648        0.002338      0.000013  0.089484   \n",
              "4            0.005897      0.000982        0.005974      0.000092  0.044061   \n",
              "...               ...           ...             ...           ...       ...   \n",
              "28007        0.014103      0.002419        0.014026      0.000000  0.011356   \n",
              "28008        0.000513      0.006836        0.000519      0.004085  0.007495   \n",
              "28009        0.007436      0.000069        0.007532      0.000000  0.121281   \n",
              "28010        0.000000      0.000491        0.000000      0.000139  0.051329   \n",
              "28011        0.333846      0.001030        0.333766      0.000006  0.118783   \n",
              "\n",
              "       Month  \n",
              "0          1  \n",
              "1          1  \n",
              "2          1  \n",
              "3          1  \n",
              "4          1  \n",
              "...      ...  \n",
              "28007     10  \n",
              "28008     10  \n",
              "28009     10  \n",
              "28010     10  \n",
              "28011     10  \n",
              "\n",
              "[28012 rows x 12 columns]"
            ],
            "text/html": [
              "\n",
              "  <div id=\"df-a10ec3db-7fe7-458d-a1f4-70d1994b139c\">\n",
              "    <div class=\"colab-df-container\">\n",
              "      <div>\n",
              "<style scoped>\n",
              "    .dataframe tbody tr th:only-of-type {\n",
              "        vertical-align: middle;\n",
              "    }\n",
              "\n",
              "    .dataframe tbody tr th {\n",
              "        vertical-align: top;\n",
              "    }\n",
              "\n",
              "    .dataframe thead th {\n",
              "        text-align: right;\n",
              "    }\n",
              "</style>\n",
              "<table border=\"1\" class=\"dataframe\">\n",
              "  <thead>\n",
              "    <tr style=\"text-align: right;\">\n",
              "      <th></th>\n",
              "      <th>SEC_CODE</th>\n",
              "      <th>SYMBOL1</th>\n",
              "      <th>MARKET</th>\n",
              "      <th>VOLUME</th>\n",
              "      <th>TRADE_QTY</th>\n",
              "      <th>NO_OF_TRADES</th>\n",
              "      <th>BEST_ASK_PRICE</th>\n",
              "      <th>BEST_ASK_QTY</th>\n",
              "      <th>BEST_BID_PRICE</th>\n",
              "      <th>BEST_BID_QTY</th>\n",
              "      <th>LOW</th>\n",
              "      <th>Month</th>\n",
              "    </tr>\n",
              "  </thead>\n",
              "  <tbody>\n",
              "    <tr>\n",
              "      <th>0</th>\n",
              "      <td>111001</td>\n",
              "      <td>107</td>\n",
              "      <td>1</td>\n",
              "      <td>0.022448</td>\n",
              "      <td>0.009470</td>\n",
              "      <td>0.042378</td>\n",
              "      <td>0.042308</td>\n",
              "      <td>0.000575</td>\n",
              "      <td>0.042338</td>\n",
              "      <td>0.000555</td>\n",
              "      <td>0.082671</td>\n",
              "      <td>1</td>\n",
              "    </tr>\n",
              "    <tr>\n",
              "      <th>1</th>\n",
              "      <td>111002</td>\n",
              "      <td>112</td>\n",
              "      <td>1</td>\n",
              "      <td>0.001433</td>\n",
              "      <td>0.001569</td>\n",
              "      <td>0.009417</td>\n",
              "      <td>0.009231</td>\n",
              "      <td>0.000484</td>\n",
              "      <td>0.009351</td>\n",
              "      <td>0.000436</td>\n",
              "      <td>0.031797</td>\n",
              "      <td>1</td>\n",
              "    </tr>\n",
              "    <tr>\n",
              "      <th>2</th>\n",
              "      <td>111003</td>\n",
              "      <td>87</td>\n",
              "      <td>2</td>\n",
              "      <td>0.000082</td>\n",
              "      <td>0.000126</td>\n",
              "      <td>0.003531</td>\n",
              "      <td>0.003590</td>\n",
              "      <td>0.001820</td>\n",
              "      <td>0.003636</td>\n",
              "      <td>0.000278</td>\n",
              "      <td>0.022485</td>\n",
              "      <td>1</td>\n",
              "    </tr>\n",
              "    <tr>\n",
              "      <th>3</th>\n",
              "      <td>111004</td>\n",
              "      <td>192</td>\n",
              "      <td>1</td>\n",
              "      <td>0.000176</td>\n",
              "      <td>0.000068</td>\n",
              "      <td>0.002354</td>\n",
              "      <td>0.002308</td>\n",
              "      <td>0.000648</td>\n",
              "      <td>0.002338</td>\n",
              "      <td>0.000013</td>\n",
              "      <td>0.089484</td>\n",
              "      <td>1</td>\n",
              "    </tr>\n",
              "    <tr>\n",
              "      <th>4</th>\n",
              "      <td>111006</td>\n",
              "      <td>183</td>\n",
              "      <td>1</td>\n",
              "      <td>0.003273</td>\n",
              "      <td>0.002589</td>\n",
              "      <td>0.005886</td>\n",
              "      <td>0.005897</td>\n",
              "      <td>0.000982</td>\n",
              "      <td>0.005974</td>\n",
              "      <td>0.000092</td>\n",
              "      <td>0.044061</td>\n",
              "      <td>1</td>\n",
              "    </tr>\n",
              "    <tr>\n",
              "      <th>...</th>\n",
              "      <td>...</td>\n",
              "      <td>...</td>\n",
              "      <td>...</td>\n",
              "      <td>...</td>\n",
              "      <td>...</td>\n",
              "      <td>...</td>\n",
              "      <td>...</td>\n",
              "      <td>...</td>\n",
              "      <td>...</td>\n",
              "      <td>...</td>\n",
              "      <td>...</td>\n",
              "      <td>...</td>\n",
              "    </tr>\n",
              "    <tr>\n",
              "      <th>28007</th>\n",
              "      <td>141214</td>\n",
              "      <td>34</td>\n",
              "      <td>2</td>\n",
              "      <td>0.115631</td>\n",
              "      <td>0.345130</td>\n",
              "      <td>0.014126</td>\n",
              "      <td>0.014103</td>\n",
              "      <td>0.002419</td>\n",
              "      <td>0.014026</td>\n",
              "      <td>0.000000</td>\n",
              "      <td>0.011356</td>\n",
              "      <td>10</td>\n",
              "    </tr>\n",
              "    <tr>\n",
              "      <th>28008</th>\n",
              "      <td>141215</td>\n",
              "      <td>200</td>\n",
              "      <td>2</td>\n",
              "      <td>0.000017</td>\n",
              "      <td>0.000079</td>\n",
              "      <td>0.000589</td>\n",
              "      <td>0.000513</td>\n",
              "      <td>0.006836</td>\n",
              "      <td>0.000519</td>\n",
              "      <td>0.004085</td>\n",
              "      <td>0.007495</td>\n",
              "      <td>10</td>\n",
              "    </tr>\n",
              "    <tr>\n",
              "      <th>28009</th>\n",
              "      <td>141223</td>\n",
              "      <td>178</td>\n",
              "      <td>2</td>\n",
              "      <td>0.006475</td>\n",
              "      <td>0.001789</td>\n",
              "      <td>0.007652</td>\n",
              "      <td>0.007436</td>\n",
              "      <td>0.000069</td>\n",
              "      <td>0.007532</td>\n",
              "      <td>0.000000</td>\n",
              "      <td>0.121281</td>\n",
              "      <td>10</td>\n",
              "    </tr>\n",
              "    <tr>\n",
              "      <th>28010</th>\n",
              "      <td>141224</td>\n",
              "      <td>151</td>\n",
              "      <td>1</td>\n",
              "      <td>0.000128</td>\n",
              "      <td>0.000087</td>\n",
              "      <td>0.000000</td>\n",
              "      <td>0.000000</td>\n",
              "      <td>0.000491</td>\n",
              "      <td>0.000000</td>\n",
              "      <td>0.000139</td>\n",
              "      <td>0.051329</td>\n",
              "      <td>10</td>\n",
              "    </tr>\n",
              "    <tr>\n",
              "      <th>28011</th>\n",
              "      <td>142041</td>\n",
              "      <td>119</td>\n",
              "      <td>1</td>\n",
              "      <td>0.103848</td>\n",
              "      <td>0.029751</td>\n",
              "      <td>0.333726</td>\n",
              "      <td>0.333846</td>\n",
              "      <td>0.001030</td>\n",
              "      <td>0.333766</td>\n",
              "      <td>0.000006</td>\n",
              "      <td>0.118783</td>\n",
              "      <td>10</td>\n",
              "    </tr>\n",
              "  </tbody>\n",
              "</table>\n",
              "<p>28012 rows × 12 columns</p>\n",
              "</div>\n",
              "      <button class=\"colab-df-convert\" onclick=\"convertToInteractive('df-a10ec3db-7fe7-458d-a1f4-70d1994b139c')\"\n",
              "              title=\"Convert this dataframe to an interactive table.\"\n",
              "              style=\"display:none;\">\n",
              "        \n",
              "  <svg xmlns=\"http://www.w3.org/2000/svg\" height=\"24px\"viewBox=\"0 0 24 24\"\n",
              "       width=\"24px\">\n",
              "    <path d=\"M0 0h24v24H0V0z\" fill=\"none\"/>\n",
              "    <path d=\"M18.56 5.44l.94 2.06.94-2.06 2.06-.94-2.06-.94-.94-2.06-.94 2.06-2.06.94zm-11 1L8.5 8.5l.94-2.06 2.06-.94-2.06-.94L8.5 2.5l-.94 2.06-2.06.94zm10 10l.94 2.06.94-2.06 2.06-.94-2.06-.94-.94-2.06-.94 2.06-2.06.94z\"/><path d=\"M17.41 7.96l-1.37-1.37c-.4-.4-.92-.59-1.43-.59-.52 0-1.04.2-1.43.59L10.3 9.45l-7.72 7.72c-.78.78-.78 2.05 0 2.83L4 21.41c.39.39.9.59 1.41.59.51 0 1.02-.2 1.41-.59l7.78-7.78 2.81-2.81c.8-.78.8-2.07 0-2.86zM5.41 20L4 18.59l7.72-7.72 1.47 1.35L5.41 20z\"/>\n",
              "  </svg>\n",
              "      </button>\n",
              "      \n",
              "  <style>\n",
              "    .colab-df-container {\n",
              "      display:flex;\n",
              "      flex-wrap:wrap;\n",
              "      gap: 12px;\n",
              "    }\n",
              "\n",
              "    .colab-df-convert {\n",
              "      background-color: #E8F0FE;\n",
              "      border: none;\n",
              "      border-radius: 50%;\n",
              "      cursor: pointer;\n",
              "      display: none;\n",
              "      fill: #1967D2;\n",
              "      height: 32px;\n",
              "      padding: 0 0 0 0;\n",
              "      width: 32px;\n",
              "    }\n",
              "\n",
              "    .colab-df-convert:hover {\n",
              "      background-color: #E2EBFA;\n",
              "      box-shadow: 0px 1px 2px rgba(60, 64, 67, 0.3), 0px 1px 3px 1px rgba(60, 64, 67, 0.15);\n",
              "      fill: #174EA6;\n",
              "    }\n",
              "\n",
              "    [theme=dark] .colab-df-convert {\n",
              "      background-color: #3B4455;\n",
              "      fill: #D2E3FC;\n",
              "    }\n",
              "\n",
              "    [theme=dark] .colab-df-convert:hover {\n",
              "      background-color: #434B5C;\n",
              "      box-shadow: 0px 1px 3px 1px rgba(0, 0, 0, 0.15);\n",
              "      filter: drop-shadow(0px 1px 2px rgba(0, 0, 0, 0.3));\n",
              "      fill: #FFFFFF;\n",
              "    }\n",
              "  </style>\n",
              "\n",
              "      <script>\n",
              "        const buttonEl =\n",
              "          document.querySelector('#df-a10ec3db-7fe7-458d-a1f4-70d1994b139c button.colab-df-convert');\n",
              "        buttonEl.style.display =\n",
              "          google.colab.kernel.accessAllowed ? 'block' : 'none';\n",
              "\n",
              "        async function convertToInteractive(key) {\n",
              "          const element = document.querySelector('#df-a10ec3db-7fe7-458d-a1f4-70d1994b139c');\n",
              "          const dataTable =\n",
              "            await google.colab.kernel.invokeFunction('convertToInteractive',\n",
              "                                                     [key], {});\n",
              "          if (!dataTable) return;\n",
              "\n",
              "          const docLinkHtml = 'Like what you see? Visit the ' +\n",
              "            '<a target=\"_blank\" href=https://colab.research.google.com/notebooks/data_table.ipynb>data table notebook</a>'\n",
              "            + ' to learn more about interactive tables.';\n",
              "          element.innerHTML = '';\n",
              "          dataTable['output_type'] = 'display_data';\n",
              "          await google.colab.output.renderOutput(dataTable, element);\n",
              "          const docLink = document.createElement('div');\n",
              "          docLink.innerHTML = docLinkHtml;\n",
              "          element.appendChild(docLink);\n",
              "        }\n",
              "      </script>\n",
              "    </div>\n",
              "  </div>\n",
              "  "
            ]
          },
          "metadata": {},
          "execution_count": 42
        }
      ]
    },
    {
      "cell_type": "code",
      "source": [
        "X=df2.drop(['LOW'],axis=1)\n",
        "y=df2['LOW']"
      ],
      "metadata": {
        "id": "iM_FV_kWssAC"
      },
      "execution_count": 43,
      "outputs": []
    },
    {
      "cell_type": "markdown",
      "source": [
        "### Linear regression"
      ],
      "metadata": {
        "id": "2cJANUw-cKGh"
      }
    },
    {
      "cell_type": "code",
      "source": [
        "LRModel = LinearRegression()"
      ],
      "metadata": {
        "id": "RD7Vo97SdjE2"
      },
      "execution_count": 44,
      "outputs": []
    },
    {
      "cell_type": "code",
      "source": [
        "MAESum=0\n",
        "MSESum=0\n",
        "RMSESum=0\n",
        "R2Sum=0\n",
        "results={}\n",
        "sfs = SequentialFeatureSelector(LRModel, n_features_to_select=7, direction='forward')\n",
        "sfs.fit(X, y)\n",
        "selected_features = X.columns[sfs.get_support()]\n",
        "print(\"Selected features:\", selected_features)\n",
        "for i in range(30):\n",
        "  X_train, X_test, y_train, y_test = train_test_split(X[selected_features], y, test_size=0.2,random_state=i)\n",
        "  LRModel.fit(X_train, y_train)\n",
        "  y_pred = LRModel.predict(X_test)\n",
        "  mae = mean_absolute_error(y_test, y_pred)\n",
        "  MAESum=MAESum+mae\n",
        "  mse = mean_squared_error(y_test, y_pred)\n",
        "  MSESum=MSESum+mse\n",
        "  rmse = mean_squared_error(y_test, y_pred, squared=False)\n",
        "  RMSESum=RMSESum+rmse\n",
        "  r2 = r2_score(y_test, y_pred)\n",
        "  R2Sum=R2Sum+ r2\n",
        "\n",
        "print('Average MAE:', round(MAESum/30, 3))\n",
        "print('Average MSE:', round(MSESum/30,3))\n",
        "print('Average RMSE:', round(RMSESum/30,3))\n",
        "print('Average R2 :', round(R2Sum/30,3))\n",
        "results['LR with sfs']={'R2':round(R2Sum/30,3),'RMSE':round(RMSESum/30,3)}"
      ],
      "metadata": {
        "colab": {
          "base_uri": "https://localhost:8080/"
        },
        "id": "F5-r2RLbdnlb",
        "outputId": "d91f24d7-4a30-4ef3-9904-b3771a0bd784"
      },
      "execution_count": 45,
      "outputs": [
        {
          "output_type": "stream",
          "name": "stdout",
          "text": [
            "Selected features: Index(['SEC_CODE', 'SYMBOL1', 'MARKET', 'VOLUME', 'TRADE_QTY',\n",
            "       'BEST_ASK_PRICE', 'BEST_ASK_QTY'],\n",
            "      dtype='object')\n",
            "Average MAE: 0.036\n",
            "Average MSE: 0.009\n",
            "Average RMSE: 0.094\n",
            "Average R2 : 0.18\n"
          ]
        }
      ]
    },
    {
      "cell_type": "code",
      "source": [
        "MAESum=0\n",
        "MSESum=0\n",
        "RMSESum=0\n",
        "R2Sum=0\n",
        "selector = SelectKBest(f_regression, k=7)\n",
        "selector.fit(X, y)\n",
        "selected_features= X.columns[selector.get_support()]\n",
        "print(\"Selected features:\", X.columns[selector.get_support()])\n",
        "for i in range(30):\n",
        "  X_train, X_test, y_train, y_test = train_test_split(X[selected_features], y, test_size=0.2,random_state=i)\n",
        "  LRModel.fit(X_train, y_train)\n",
        "  y_pred = LRModel.predict(X_test)\n",
        "  mae = mean_absolute_error(y_test, y_pred)\n",
        "  MAESum=MAESum+mae\n",
        "  mse = mean_squared_error(y_test, y_pred)\n",
        "  MSESum=MSESum+mse\n",
        "  rmse = mean_squared_error(y_test, y_pred, squared=False)\n",
        "  RMSESum=RMSESum+rmse\n",
        "  r2 = r2_score(y_test, y_pred)\n",
        "  R2Sum=R2Sum+ r2\n",
        "\n",
        "print('Average MAE:', round(MAESum/30, 3))\n",
        "print('Average MSE:', round(MSESum/30,3))\n",
        "print('Average RMSE:', round(RMSESum/30,3))\n",
        "print('Average R2 :', round(R2Sum/30,3))\n",
        "results['LR with Kbest']={'R2':round(R2Sum/30,3),'RMSE':round(RMSESum/30,3)}"
      ],
      "metadata": {
        "colab": {
          "base_uri": "https://localhost:8080/"
        },
        "id": "rIJT-_XHdxLY",
        "outputId": "d09843f6-dcc4-4b7a-f457-9d98139bbd93"
      },
      "execution_count": 46,
      "outputs": [
        {
          "output_type": "stream",
          "name": "stdout",
          "text": [
            "Selected features: Index(['SEC_CODE', 'MARKET', 'VOLUME', 'NO_OF_TRADES', 'BEST_ASK_PRICE',\n",
            "       'BEST_ASK_QTY', 'BEST_BID_PRICE'],\n",
            "      dtype='object')\n",
            "Average MAE: 0.037\n",
            "Average MSE: 0.009\n",
            "Average RMSE: 0.097\n",
            "Average R2 : 0.124\n"
          ]
        }
      ]
    },
    {
      "cell_type": "markdown",
      "source": [
        "### Decision tree regression"
      ],
      "metadata": {
        "id": "Psh0sab2cNcJ"
      }
    },
    {
      "cell_type": "code",
      "source": [
        "DTModel = DecisionTreeRegressor()"
      ],
      "metadata": {
        "id": "4c1s4GYueT4V"
      },
      "execution_count": 47,
      "outputs": []
    },
    {
      "cell_type": "code",
      "source": [
        "MAESum=0\n",
        "MSESum=0\n",
        "RMSESum=0\n",
        "R2Sum=0\n",
        "r2lst=[]\n",
        "sfs = SequentialFeatureSelector(DTModel, n_features_to_select=7, direction='forward')\n",
        "sfs.fit(X, y)\n",
        "selected_features = X.columns[sfs.get_support()]\n",
        "print(\"Selected features:\", selected_features)\n",
        "for i in range(30):\n",
        "  X_train, X_test, y_train, y_test = train_test_split(X[selected_features], y, test_size=0.2,random_state=i)\n",
        "  DTModel.fit(X_train, y_train)\n",
        "  y_pred = DTModel.predict(X_test)\n",
        "  mae = mean_absolute_error(y_test, y_pred)\n",
        "  MAESum=MAESum+mae\n",
        "  mse = mean_squared_error(y_test, y_pred)\n",
        "  MSESum=MSESum+mse\n",
        "  rmse = mean_squared_error(y_test, y_pred, squared=False)\n",
        "  RMSESum=RMSESum+rmse\n",
        "  r2 = r2_score(y_test, y_pred)\n",
        "  R2Sum=R2Sum+ r2\n",
        "  r2lst.append(r2)\n",
        "print('Average MAE:', round(MAESum/30, 3))\n",
        "print('Average MSE:', round(MSESum/30,3))\n",
        "print('Average RMSE:', round(RMSESum/30,3))\n",
        "print('Average R2 :', round(R2Sum/30,3))\n",
        "results['DT with sfs']={'R2':round(R2Sum/30,3),'RMSE':round(RMSESum/30,3)}"
      ],
      "metadata": {
        "colab": {
          "base_uri": "https://localhost:8080/"
        },
        "id": "KTVWE7HfeUzA",
        "outputId": "dc99d9cc-d8d1-4731-c77c-19cf26df45da"
      },
      "execution_count": 48,
      "outputs": [
        {
          "output_type": "stream",
          "name": "stdout",
          "text": [
            "Selected features: Index(['SEC_CODE', 'SYMBOL1', 'MARKET', 'NO_OF_TRADES', 'BEST_ASK_PRICE',\n",
            "       'BEST_BID_PRICE', 'Month'],\n",
            "      dtype='object')\n",
            "Average MAE: 0.004\n",
            "Average MSE: 0.001\n",
            "Average RMSE: 0.023\n",
            "Average R2 : 0.95\n"
          ]
        }
      ]
    },
    {
      "cell_type": "code",
      "source": [
        "MAESum=0\n",
        "MSESum=0\n",
        "RMSESum=0\n",
        "R2Sum=0\n",
        "selector = SelectKBest(f_regression, k=7)\n",
        "selector.fit(X, y)\n",
        "selected_features= X.columns[selector.get_support()]\n",
        "print(\"Selected features:\", X.columns[selector.get_support()])\n",
        "for i in range(30):\n",
        "  X_train, X_test, y_train, y_test = train_test_split(X[selected_features], y, test_size=0.2,random_state=i)\n",
        "  DTModel.fit(X_train, y_train)\n",
        "  y_pred = DTModel.predict(X_test)\n",
        "  mae = mean_absolute_error(y_test, y_pred)\n",
        "  MAESum=MAESum+mae\n",
        "  mse = mean_squared_error(y_test, y_pred)\n",
        "  MSESum=MSESum+mse\n",
        "  rmse = mean_squared_error(y_test, y_pred, squared=False)\n",
        "  RMSESum=RMSESum+rmse\n",
        "  r2 = r2_score(y_test, y_pred)\n",
        "  R2Sum=R2Sum+ r2\n",
        "\n",
        "print('Average MAE:', round(MAESum/30, 3))\n",
        "print('Average MSE:', round(MSESum/30,3))\n",
        "print('Average RMSE:', round(RMSESum/30,3))\n",
        "print('Average R2 :', round(R2Sum/30,3))\n",
        "results['DT with Kbest']={'R2':round(R2Sum/30,3),'RMSE':round(RMSESum/30,3)}"
      ],
      "metadata": {
        "colab": {
          "base_uri": "https://localhost:8080/"
        },
        "id": "xxvu_QLfeeE_",
        "outputId": "9f338d31-0786-4cc1-a79e-cbca8f30f2b9"
      },
      "execution_count": 49,
      "outputs": [
        {
          "output_type": "stream",
          "name": "stdout",
          "text": [
            "Selected features: Index(['SEC_CODE', 'MARKET', 'VOLUME', 'NO_OF_TRADES', 'BEST_ASK_PRICE',\n",
            "       'BEST_ASK_QTY', 'BEST_BID_PRICE'],\n",
            "      dtype='object')\n",
            "Average MAE: 0.006\n",
            "Average MSE: 0.001\n",
            "Average RMSE: 0.031\n",
            "Average R2 : 0.911\n"
          ]
        }
      ]
    },
    {
      "cell_type": "markdown",
      "source": [
        "### K-Nearest Neighbors regression"
      ],
      "metadata": {
        "id": "cBoJIhahcRLI"
      }
    },
    {
      "cell_type": "code",
      "source": [
        "KNNModel =KNeighborsRegressor(n_neighbors=3)"
      ],
      "metadata": {
        "id": "a7TYx59TemOF"
      },
      "execution_count": 50,
      "outputs": []
    },
    {
      "cell_type": "code",
      "source": [
        "MAESum=0\n",
        "MSESum=0\n",
        "RMSESum=0\n",
        "R2Sum=0\n",
        "rmselst=[]\n",
        "sfs = SequentialFeatureSelector(KNNModel, n_features_to_select=7, direction='forward')\n",
        "sfs.fit(X, y)\n",
        "selected_features = X.columns[sfs.get_support()]\n",
        "print(\"Selected features:\", selected_features)\n",
        "for i in range(30):\n",
        "  X_train, X_test, y_train, y_test = train_test_split(X[selected_features], y, test_size=0.2,random_state=i)\n",
        "  KNNModel.fit(X_train, y_train)\n",
        "  y_pred = KNNModel.predict(X_test)\n",
        "  mae = mean_absolute_error(y_test, y_pred)\n",
        "  MAESum=MAESum+mae\n",
        "  mse = mean_squared_error(y_test, y_pred)\n",
        "  MSESum=MSESum+mse\n",
        "  rmse = mean_squared_error(y_test, y_pred, squared=False)\n",
        "  RMSESum=RMSESum+rmse\n",
        "  rmselst.append(rmse)\n",
        "  r2 = r2_score(y_test, y_pred)\n",
        "  R2Sum=R2Sum+ r2\n",
        "\n",
        "print('Average MAE:', round(MAESum/30, 3))\n",
        "print('Average MSE:', round(MSESum/30,3))\n",
        "print('Average RMSE:', round(RMSESum/30,3))\n",
        "print('Average R2 :', round(R2Sum/30,3))\n",
        "results['KNN with sfs']={'R2':round(R2Sum/30,3),'RMSE':round(RMSESum/30,3)}"
      ],
      "metadata": {
        "colab": {
          "base_uri": "https://localhost:8080/"
        },
        "id": "1Ia2_deaewBO",
        "outputId": "f3476302-b605-4aa0-893e-79f8778a89bf"
      },
      "execution_count": 51,
      "outputs": [
        {
          "output_type": "stream",
          "name": "stdout",
          "text": [
            "Selected features: Index(['SYMBOL1', 'MARKET', 'VOLUME', 'TRADE_QTY', 'BEST_ASK_PRICE',\n",
            "       'BEST_ASK_QTY', 'BEST_BID_QTY'],\n",
            "      dtype='object')\n",
            "Average MAE: 0.004\n",
            "Average MSE: 0.0\n",
            "Average RMSE: 0.022\n",
            "Average R2 : 0.956\n"
          ]
        }
      ]
    },
    {
      "cell_type": "code",
      "source": [
        "MAESum=0\n",
        "MSESum=0\n",
        "RMSESum=0\n",
        "R2Sum=0\n",
        "selector = SelectKBest(f_regression, k=7)\n",
        "selector.fit(X, y)\n",
        "selected_features= X.columns[selector.get_support()]\n",
        "print(\"Selected features:\", X.columns[selector.get_support()])\n",
        "for i in range(30):\n",
        "  X_train, X_test, y_train, y_test = train_test_split(X[selected_features], y, test_size=0.2,random_state=i)\n",
        "  KNNModel.fit(X_train, y_train)\n",
        "  y_pred = KNNModel.predict(X_test)\n",
        "  mae = mean_absolute_error(y_test, y_pred)\n",
        "  MAESum=MAESum+mae\n",
        "  mse = mean_squared_error(y_test, y_pred)\n",
        "  MSESum=MSESum+mse\n",
        "  rmse = mean_squared_error(y_test, y_pred, squared=False)\n",
        "  RMSESum=RMSESum+rmse\n",
        "  r2 = r2_score(y_test, y_pred)\n",
        "  R2Sum=R2Sum+ r2\n",
        "\n",
        "print('Average MAE:', round(MAESum/30, 3))\n",
        "print('Average MSE:', round(MSESum/30,3))\n",
        "print('Average RMSE:', round(RMSESum/30,3))\n",
        "print('Average R2 :', round(R2Sum/30,3))\n",
        "results['KNN with Kbest']={'R2':round(R2Sum/30,3),'RMSE':round(RMSESum/30,3)}"
      ],
      "metadata": {
        "colab": {
          "base_uri": "https://localhost:8080/"
        },
        "id": "p8DxGcbPexBR",
        "outputId": "3c34fb77-2d62-4979-a166-dd5a70cefb0b"
      },
      "execution_count": 52,
      "outputs": [
        {
          "output_type": "stream",
          "name": "stdout",
          "text": [
            "Selected features: Index(['SEC_CODE', 'MARKET', 'VOLUME', 'NO_OF_TRADES', 'BEST_ASK_PRICE',\n",
            "       'BEST_ASK_QTY', 'BEST_BID_PRICE'],\n",
            "      dtype='object')\n",
            "Average MAE: 0.004\n",
            "Average MSE: 0.0\n",
            "Average RMSE: 0.022\n",
            "Average R2 : 0.955\n"
          ]
        }
      ]
    },
    {
      "cell_type": "markdown",
      "source": [
        "### Visualizing results of the different predictive models"
      ],
      "metadata": {
        "id": "niF-mlrItNau"
      }
    },
    {
      "cell_type": "code",
      "source": [
        "print(results)"
      ],
      "metadata": {
        "id": "ZbIxQkX2tR-g",
        "colab": {
          "base_uri": "https://localhost:8080/"
        },
        "outputId": "e8644d92-2b3a-43d3-9a05-55f9dd526de4"
      },
      "execution_count": 53,
      "outputs": [
        {
          "output_type": "stream",
          "name": "stdout",
          "text": [
            "{'LR with sfs': {'R2': 0.18, 'RMSE': 0.094}, 'LR with Kbest': {'R2': 0.124, 'RMSE': 0.097}, 'DT with sfs': {'R2': 0.95, 'RMSE': 0.023}, 'DT with Kbest': {'R2': 0.911, 'RMSE': 0.031}, 'KNN with sfs': {'R2': 0.956, 'RMSE': 0.022}, 'KNN with Kbest': {'R2': 0.955, 'RMSE': 0.022}}\n"
          ]
        }
      ]
    },
    {
      "cell_type": "code",
      "source": [
        "model_names = list(results.keys())\n",
        "R2_values = [results[model]['R2'] for model in model_names]\n",
        "RMSE_values = [results[model]['RMSE'] for model in model_names]\n",
        "x_pos = np.arange(len(model_names))\n",
        "fig, axes = plt.subplots(1, 2, figsize=(7, 4), constrained_layout=True)\n",
        "plot_metric(axes[0], R2_values, 'R2 Score')\n",
        "plot_metric(axes[1], RMSE_values, 'Root Mean Squared Error (RMSE)')\n",
        "plt.show()"
      ],
      "metadata": {
        "colab": {
          "base_uri": "https://localhost:8080/",
          "height": 428
        },
        "id": "71Mrzpcyfhv9",
        "outputId": "6160e048-caf0-45a4-d2a5-aa4873958454"
      },
      "execution_count": 54,
      "outputs": [
        {
          "output_type": "display_data",
          "data": {
            "text/plain": [
              "<Figure size 700x400 with 2 Axes>"
            ],
            "image/png": "[encoded data removed]"
          },
          "metadata": {}
        }
      ]
    },
    {
      "cell_type": "code",
      "source": [
        "sns.boxplot(r2lst)\n",
        "plt.title('R2 values for DT with sfs')"
      ],
      "metadata": {
        "colab": {
          "base_uri": "https://localhost:8080/",
          "height": 469
        },
        "id": "w8-fxSvJfmU-",
        "outputId": "db10a186-6d17-4182-fccd-4312a538f50a"
      },
      "execution_count": 55,
      "outputs": [
        {
          "output_type": "execute_result",
          "data": {
            "text/plain": [
              "Text(0.5, 1.0, 'R2 values for DT with sfs')"
            ]
          },
          "metadata": {},
          "execution_count": 55
        },
        {
          "output_type": "display_data",
          "data": {
            "text/plain": [
              "<Figure size 640x480 with 1 Axes>"
            ],
            "image/png": "[encoded data removed]"
          },
          "metadata": {}
        }
      ]
    },
    {
      "cell_type": "code",
      "source": [
        "sns.boxplot(rmselst)\n",
        "plt.title('RMSE values for KNN with sfs')"
      ],
      "metadata": {
        "colab": {
          "base_uri": "https://localhost:8080/",
          "height": 469
        },
        "id": "67NXcgwlfiXX",
        "outputId": "7f5b66e8-083e-4f8e-89b7-5a093ae15eb4"
      },
      "execution_count": 56,
      "outputs": [
        {
          "output_type": "execute_result",
          "data": {
            "text/plain": [
              "Text(0.5, 1.0, 'RMSE values for KNN with sfs')"
            ]
          },
          "metadata": {},
          "execution_count": 56
        },
        {
          "output_type": "display_data",
          "data": {
            "text/plain": [
              "<Figure size 640x480 with 1 Axes>"
            ],
            "image/png": "[encoded data removed]"
          },
          "metadata": {}
        }
      ]
    }
  ]
}